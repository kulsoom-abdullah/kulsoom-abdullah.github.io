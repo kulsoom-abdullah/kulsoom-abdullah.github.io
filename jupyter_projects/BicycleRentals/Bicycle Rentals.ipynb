{
 "cells": [
  {
   "cell_type": "markdown",
   "metadata": {},
   "source": [
    "# Kaggle - predicting bike rental count\n",
    "\n",
    "**Description**: _You are provided hourly bike rental data spanning two years. For this task, the training set is comprised of the first 19 days of each month, while the test set is the 20th to the end of the month. You must predict the total count of bikes rented during each hour covered by the test set, using only information available prior to the rental period._\n",
    "\n",
    "Fields\n",
    "- datetime - hourly date + timestamp  \n",
    "- season -  \n",
    "  - 1 = spring, 2 = summer, 3 = fall, 4 = winter \n",
    "- holiday - whether the day is considered a holiday\n",
    "- workingday - whether the day is neither a weekend nor holiday\n",
    "- weather - \n",
    " - 1: Clear, Few clouds, Partly cloudy, Partly cloudy \n",
    " - 2: Mist + Cloudy, Mist + Broken clouds, Mist + Few clouds, Mist \n",
    " - 3: Light Snow, Light Rain + Thunderstorm + Scattered clouds, Light Rain + Scattered clouds \n",
    " - 4: Heavy Rain + Ice Pallets + Thunderstorm + Mist, Snow + Fog \n",
    "- temp - temperature in Celsius\n",
    "- atemp - \"feels like\" temperature in Celsius\n",
    "- humidity - relative humidity\n",
    "- windspeed - wind speed\n",
    "- casual - number of non-registered user rentals initiated\n",
    "- registered - number of registered user rentals initiated\n",
    "- count - number of total rentals\n",
    "\n",
    "### **Table of Contents**\n",
    " - [Feature types and strategy](#feat_types)\n",
    "  - Numerical (checking for normality)\n",
    "  - Categorical\n",
    "  - Binary\n",
    "  - Date\n",
    " - [Numerical variable distributions and scaling](#num_dist)\n",
    "     - [Data scaling](#scaling)\n",
    " - [Distribution of categorical variables](#cat_dist)\n",
    " - [Transformation of the target variable](#log_trans)\n",
    " - [Linear Regression](#lg)\n",
    " - [KNeighborsRegressor]\n",
    " - [Gradient Boosting Regressor]\n",
    " - [XGBoost]\n",
    " - [Results using GradientBoostingRegressor, KNeighborsRegressor, XGBRegressor](#results)\n",
    "\n",
    "- [Appendix](#append):\n",
    " - [Pipeline demonstration using linear regression](#pipeline)\n",
    " - [GridCV for GBR](#gridcv)\n",
    " - Residuals distribution\n",
    " - [correlation and p-values on the features](#corr)\n",
    "\n"
   ]
  },
  {
   "cell_type": "code",
   "execution_count": 29,
   "metadata": {
    "collapsed": true,
    "scrolled": true
   },
   "outputs": [],
   "source": [
    "import pandas as pd\n",
    "import numpy as np\n",
    "import matplotlib.pyplot as plt\n",
    "from statsmodels.graphics.gofplots import qqplot\n",
    "from scipy.stats import shapiro, normaltest, anderson\n",
    "from sklearn import preprocessing\n",
    "from sklearn.compose import ColumnTransformer,make_column_transformer\n",
    "from sklearn.pipeline import Pipeline,make_pipeline\n",
    "from sklearn.linear_model import LinearRegression\n",
    "from sklearn.ensemble import GradientBoostingRegressor\n",
    "from sklearn.neighbors import KNeighborsRegressor\n",
    "from sklearn.model_selection import train_test_split\n",
    "from sklearn.metrics import mean_squared_error, mean_absolute_error\n",
    "from sklearn.model_selection import cross_val_score,KFold,GridSearchCV\n",
    "from sklearn.feature_selection import f_regression\n",
    "\n",
    "%matplotlib inline"
   ]
  },
  {
   "cell_type": "code",
   "execution_count": 30,
   "metadata": {},
   "outputs": [
    {
     "data": {
      "text/html": [
       "<div>\n",
       "<style scoped>\n",
       "    .dataframe tbody tr th:only-of-type {\n",
       "        vertical-align: middle;\n",
       "    }\n",
       "\n",
       "    .dataframe tbody tr th {\n",
       "        vertical-align: top;\n",
       "    }\n",
       "\n",
       "    .dataframe thead th {\n",
       "        text-align: right;\n",
       "    }\n",
       "</style>\n",
       "<table border=\"1\" class=\"dataframe\">\n",
       "  <thead>\n",
       "    <tr style=\"text-align: right;\">\n",
       "      <th></th>\n",
       "      <th>datetime</th>\n",
       "      <th>season</th>\n",
       "      <th>holiday</th>\n",
       "      <th>workingday</th>\n",
       "      <th>weather</th>\n",
       "      <th>temp</th>\n",
       "      <th>atemp</th>\n",
       "      <th>humidity</th>\n",
       "      <th>windspeed</th>\n",
       "      <th>casual</th>\n",
       "      <th>registered</th>\n",
       "      <th>count</th>\n",
       "    </tr>\n",
       "  </thead>\n",
       "  <tbody>\n",
       "    <tr>\n",
       "      <th>0</th>\n",
       "      <td>2011-01-01 00:00:00</td>\n",
       "      <td>1</td>\n",
       "      <td>0</td>\n",
       "      <td>0</td>\n",
       "      <td>1</td>\n",
       "      <td>9.84</td>\n",
       "      <td>14.395</td>\n",
       "      <td>81</td>\n",
       "      <td>0.0</td>\n",
       "      <td>3</td>\n",
       "      <td>13</td>\n",
       "      <td>16</td>\n",
       "    </tr>\n",
       "    <tr>\n",
       "      <th>1</th>\n",
       "      <td>2011-01-01 01:00:00</td>\n",
       "      <td>1</td>\n",
       "      <td>0</td>\n",
       "      <td>0</td>\n",
       "      <td>1</td>\n",
       "      <td>9.02</td>\n",
       "      <td>13.635</td>\n",
       "      <td>80</td>\n",
       "      <td>0.0</td>\n",
       "      <td>8</td>\n",
       "      <td>32</td>\n",
       "      <td>40</td>\n",
       "    </tr>\n",
       "    <tr>\n",
       "      <th>2</th>\n",
       "      <td>2011-01-01 02:00:00</td>\n",
       "      <td>1</td>\n",
       "      <td>0</td>\n",
       "      <td>0</td>\n",
       "      <td>1</td>\n",
       "      <td>9.02</td>\n",
       "      <td>13.635</td>\n",
       "      <td>80</td>\n",
       "      <td>0.0</td>\n",
       "      <td>5</td>\n",
       "      <td>27</td>\n",
       "      <td>32</td>\n",
       "    </tr>\n",
       "    <tr>\n",
       "      <th>3</th>\n",
       "      <td>2011-01-01 03:00:00</td>\n",
       "      <td>1</td>\n",
       "      <td>0</td>\n",
       "      <td>0</td>\n",
       "      <td>1</td>\n",
       "      <td>9.84</td>\n",
       "      <td>14.395</td>\n",
       "      <td>75</td>\n",
       "      <td>0.0</td>\n",
       "      <td>3</td>\n",
       "      <td>10</td>\n",
       "      <td>13</td>\n",
       "    </tr>\n",
       "    <tr>\n",
       "      <th>4</th>\n",
       "      <td>2011-01-01 04:00:00</td>\n",
       "      <td>1</td>\n",
       "      <td>0</td>\n",
       "      <td>0</td>\n",
       "      <td>1</td>\n",
       "      <td>9.84</td>\n",
       "      <td>14.395</td>\n",
       "      <td>75</td>\n",
       "      <td>0.0</td>\n",
       "      <td>0</td>\n",
       "      <td>1</td>\n",
       "      <td>1</td>\n",
       "    </tr>\n",
       "  </tbody>\n",
       "</table>\n",
       "</div>"
      ],
      "text/plain": [
       "              datetime  season  holiday  workingday  weather  temp   atemp  \\\n",
       "0  2011-01-01 00:00:00       1        0           0        1  9.84  14.395   \n",
       "1  2011-01-01 01:00:00       1        0           0        1  9.02  13.635   \n",
       "2  2011-01-01 02:00:00       1        0           0        1  9.02  13.635   \n",
       "3  2011-01-01 03:00:00       1        0           0        1  9.84  14.395   \n",
       "4  2011-01-01 04:00:00       1        0           0        1  9.84  14.395   \n",
       "\n",
       "   humidity  windspeed  casual  registered  count  \n",
       "0        81        0.0       3          13     16  \n",
       "1        80        0.0       8          32     40  \n",
       "2        80        0.0       5          27     32  \n",
       "3        75        0.0       3          10     13  \n",
       "4        75        0.0       0           1      1  "
      ]
     },
     "execution_count": 30,
     "metadata": {},
     "output_type": "execute_result"
    }
   ],
   "source": [
    "train_df=pd.read_csv(\"data/train.csv\")\n",
    "test_df=pd.read_csv(\"data/test.csv\")\n",
    "train_df.head()"
   ]
  },
  {
   "cell_type": "code",
   "execution_count": 31,
   "metadata": {},
   "outputs": [
    {
     "data": {
      "text/html": [
       "<div>\n",
       "<style scoped>\n",
       "    .dataframe tbody tr th:only-of-type {\n",
       "        vertical-align: middle;\n",
       "    }\n",
       "\n",
       "    .dataframe tbody tr th {\n",
       "        vertical-align: top;\n",
       "    }\n",
       "\n",
       "    .dataframe thead th {\n",
       "        text-align: right;\n",
       "    }\n",
       "</style>\n",
       "<table border=\"1\" class=\"dataframe\">\n",
       "  <thead>\n",
       "    <tr style=\"text-align: right;\">\n",
       "      <th></th>\n",
       "      <th>datetime</th>\n",
       "      <th>season</th>\n",
       "      <th>holiday</th>\n",
       "      <th>workingday</th>\n",
       "      <th>weather</th>\n",
       "      <th>temp</th>\n",
       "      <th>atemp</th>\n",
       "      <th>humidity</th>\n",
       "      <th>windspeed</th>\n",
       "    </tr>\n",
       "  </thead>\n",
       "  <tbody>\n",
       "    <tr>\n",
       "      <th>0</th>\n",
       "      <td>2011-01-20 00:00:00</td>\n",
       "      <td>1</td>\n",
       "      <td>0</td>\n",
       "      <td>1</td>\n",
       "      <td>1</td>\n",
       "      <td>10.66</td>\n",
       "      <td>11.365</td>\n",
       "      <td>56</td>\n",
       "      <td>26.0027</td>\n",
       "    </tr>\n",
       "    <tr>\n",
       "      <th>1</th>\n",
       "      <td>2011-01-20 01:00:00</td>\n",
       "      <td>1</td>\n",
       "      <td>0</td>\n",
       "      <td>1</td>\n",
       "      <td>1</td>\n",
       "      <td>10.66</td>\n",
       "      <td>13.635</td>\n",
       "      <td>56</td>\n",
       "      <td>0.0000</td>\n",
       "    </tr>\n",
       "    <tr>\n",
       "      <th>2</th>\n",
       "      <td>2011-01-20 02:00:00</td>\n",
       "      <td>1</td>\n",
       "      <td>0</td>\n",
       "      <td>1</td>\n",
       "      <td>1</td>\n",
       "      <td>10.66</td>\n",
       "      <td>13.635</td>\n",
       "      <td>56</td>\n",
       "      <td>0.0000</td>\n",
       "    </tr>\n",
       "    <tr>\n",
       "      <th>3</th>\n",
       "      <td>2011-01-20 03:00:00</td>\n",
       "      <td>1</td>\n",
       "      <td>0</td>\n",
       "      <td>1</td>\n",
       "      <td>1</td>\n",
       "      <td>10.66</td>\n",
       "      <td>12.880</td>\n",
       "      <td>56</td>\n",
       "      <td>11.0014</td>\n",
       "    </tr>\n",
       "    <tr>\n",
       "      <th>4</th>\n",
       "      <td>2011-01-20 04:00:00</td>\n",
       "      <td>1</td>\n",
       "      <td>0</td>\n",
       "      <td>1</td>\n",
       "      <td>1</td>\n",
       "      <td>10.66</td>\n",
       "      <td>12.880</td>\n",
       "      <td>56</td>\n",
       "      <td>11.0014</td>\n",
       "    </tr>\n",
       "  </tbody>\n",
       "</table>\n",
       "</div>"
      ],
      "text/plain": [
       "              datetime  season  holiday  workingday  weather   temp   atemp  \\\n",
       "0  2011-01-20 00:00:00       1        0           1        1  10.66  11.365   \n",
       "1  2011-01-20 01:00:00       1        0           1        1  10.66  13.635   \n",
       "2  2011-01-20 02:00:00       1        0           1        1  10.66  13.635   \n",
       "3  2011-01-20 03:00:00       1        0           1        1  10.66  12.880   \n",
       "4  2011-01-20 04:00:00       1        0           1        1  10.66  12.880   \n",
       "\n",
       "   humidity  windspeed  \n",
       "0        56    26.0027  \n",
       "1        56     0.0000  \n",
       "2        56     0.0000  \n",
       "3        56    11.0014  \n",
       "4        56    11.0014  "
      ]
     },
     "execution_count": 31,
     "metadata": {},
     "output_type": "execute_result"
    }
   ],
   "source": [
    "test_df.head()"
   ]
  },
  {
   "cell_type": "code",
   "execution_count": 32,
   "metadata": {},
   "outputs": [
    {
     "data": {
      "text/plain": [
       "(6493, 9)"
      ]
     },
     "execution_count": 32,
     "metadata": {},
     "output_type": "execute_result"
    }
   ],
   "source": [
    "train_df.shape #(10886, 12)\n",
    "test_df.shape #(6493, 9) "
   ]
  },
  {
   "cell_type": "code",
   "execution_count": 33,
   "metadata": {},
   "outputs": [
    {
     "data": {
      "text/plain": [
       "datetime       object\n",
       "season          int64\n",
       "holiday         int64\n",
       "workingday      int64\n",
       "weather         int64\n",
       "temp          float64\n",
       "atemp         float64\n",
       "humidity        int64\n",
       "windspeed     float64\n",
       "casual          int64\n",
       "registered      int64\n",
       "count           int64\n",
       "dtype: object"
      ]
     },
     "execution_count": 33,
     "metadata": {},
     "output_type": "execute_result"
    }
   ],
   "source": [
    "#check the (inferred) feature types\n",
    "train_df.dtypes"
   ]
  },
  {
   "cell_type": "markdown",
   "metadata": {},
   "source": [
    "No missing data to handle!"
   ]
  },
  {
   "cell_type": "code",
   "execution_count": 34,
   "metadata": {},
   "outputs": [
    {
     "data": {
      "text/html": [
       "<div>\n",
       "<style scoped>\n",
       "    .dataframe tbody tr th:only-of-type {\n",
       "        vertical-align: middle;\n",
       "    }\n",
       "\n",
       "    .dataframe tbody tr th {\n",
       "        vertical-align: top;\n",
       "    }\n",
       "\n",
       "    .dataframe thead th {\n",
       "        text-align: right;\n",
       "    }\n",
       "</style>\n",
       "<table border=\"1\" class=\"dataframe\">\n",
       "  <thead>\n",
       "    <tr style=\"text-align: right;\">\n",
       "      <th></th>\n",
       "      <th>Total</th>\n",
       "      <th>Percent</th>\n",
       "    </tr>\n",
       "  </thead>\n",
       "  <tbody>\n",
       "    <tr>\n",
       "      <th>count</th>\n",
       "      <td>0</td>\n",
       "      <td>0.0</td>\n",
       "    </tr>\n",
       "    <tr>\n",
       "      <th>registered</th>\n",
       "      <td>0</td>\n",
       "      <td>0.0</td>\n",
       "    </tr>\n",
       "    <tr>\n",
       "      <th>casual</th>\n",
       "      <td>0</td>\n",
       "      <td>0.0</td>\n",
       "    </tr>\n",
       "    <tr>\n",
       "      <th>windspeed</th>\n",
       "      <td>0</td>\n",
       "      <td>0.0</td>\n",
       "    </tr>\n",
       "    <tr>\n",
       "      <th>humidity</th>\n",
       "      <td>0</td>\n",
       "      <td>0.0</td>\n",
       "    </tr>\n",
       "    <tr>\n",
       "      <th>atemp</th>\n",
       "      <td>0</td>\n",
       "      <td>0.0</td>\n",
       "    </tr>\n",
       "    <tr>\n",
       "      <th>temp</th>\n",
       "      <td>0</td>\n",
       "      <td>0.0</td>\n",
       "    </tr>\n",
       "    <tr>\n",
       "      <th>weather</th>\n",
       "      <td>0</td>\n",
       "      <td>0.0</td>\n",
       "    </tr>\n",
       "    <tr>\n",
       "      <th>workingday</th>\n",
       "      <td>0</td>\n",
       "      <td>0.0</td>\n",
       "    </tr>\n",
       "    <tr>\n",
       "      <th>holiday</th>\n",
       "      <td>0</td>\n",
       "      <td>0.0</td>\n",
       "    </tr>\n",
       "    <tr>\n",
       "      <th>season</th>\n",
       "      <td>0</td>\n",
       "      <td>0.0</td>\n",
       "    </tr>\n",
       "    <tr>\n",
       "      <th>datetime</th>\n",
       "      <td>0</td>\n",
       "      <td>0.0</td>\n",
       "    </tr>\n",
       "  </tbody>\n",
       "</table>\n",
       "</div>"
      ],
      "text/plain": [
       "            Total  Percent\n",
       "count           0      0.0\n",
       "registered      0      0.0\n",
       "casual          0      0.0\n",
       "windspeed       0      0.0\n",
       "humidity        0      0.0\n",
       "atemp           0      0.0\n",
       "temp            0      0.0\n",
       "weather         0      0.0\n",
       "workingday      0      0.0\n",
       "holiday         0      0.0\n",
       "season          0      0.0\n",
       "datetime        0      0.0"
      ]
     },
     "execution_count": 34,
     "metadata": {},
     "output_type": "execute_result"
    }
   ],
   "source": [
    "#Any missing data to handle?\n",
    "total = train_df.isnull().sum().sort_values(ascending=False)\n",
    "percent = (train_df.isnull().sum()/train_df.isnull().count()).sort_values(ascending=False)\n",
    "missing_data = pd.concat([total, percent], axis=1, keys=['Total', 'Percent'])\n",
    "missing_data.head(20)\n",
    "#No"
   ]
  },
  {
   "cell_type": "markdown",
   "metadata": {},
   "source": [
    "<a id=\"feat_types\"></a>\n",
    "## Feature types and strategy\n",
    "\n",
    "- Numerical Variables: \n",
    "  - features: temp, atemp, humidity,  and windspeed \n",
    "  - Normalization or standardizing the data\n",
    "   - **Why?** Having no other information that some features are more important than the others, the default is to standarize the input to have the same range ([0 to 1] or [-1 to 1] so that each will have equal importance. Features with higher ranges can have more \"weight\", distance or variance by contrast to features with smaller ranges in the ML algorithms I am using, like linear regression.  It doesn't matter for tree based methods as that is not using a distance or scale, but it won't hurt either.  For future data and deploying to production, it might be something to reconsider if the max and min could be different for any of the features that are not normally distributed.\n",
    "   - Check whether they are a Guassian distribution or close to one.  If not, I will use normalization. \n",
    "- Categorical Variables: \n",
    "    - features: season, and weather\n",
    "    - perform one hot encoding   \n",
    "- Binary: \n",
    "  - features: holiday, and workingday \n",
    "  - already 0 and 1 so no processing is necessary  \n",
    "- Date \n",
    "  - create a feature hour of the day as these are the time units and what we are predicting for. This is shown above."
   ]
  },
  {
   "cell_type": "code",
   "execution_count": 35,
   "metadata": {
    "collapsed": true
   },
   "outputs": [],
   "source": [
    "train_df['datetime'] =  pd.to_datetime(train_df['datetime'], format='%Y-%m-%d %H:%M:%S')\n",
    "train_df['hourofday'] = train_df['datetime'].dt.hour\n",
    "test_df['datetime'] =  pd.to_datetime(test_df['datetime'], format='%Y-%m-%d %H:%M:%S')\n",
    "test_df['hourofday'] = test_df['datetime'].dt.hour"
   ]
  },
  {
   "cell_type": "code",
   "execution_count": 36,
   "metadata": {},
   "outputs": [
    {
     "data": {
      "text/plain": [
       "array([<matplotlib.axes._subplots.AxesSubplot object at 0x1a1f86fa20>],\n",
       "      dtype=object)"
      ]
     },
     "execution_count": 36,
     "metadata": {},
     "output_type": "execute_result"
    },
    {
     "data": {
      "image/png": "[encoded data removed]",
      "text/plain": [
       "<Figure size 1152x576 with 4 Axes>"
      ]
     },
     "metadata": {},
     "output_type": "display_data"
    }
   ],
   "source": [
    "#plot the distribution of the numerical features to visually check\n",
    "fig, axes = plt.subplots(nrows=2, ncols=2)\n",
    "fig.set_size_inches(16, 8, forward=True)\n",
    "plt.suptitle('Distribution of numerical variables', x=0.5, y=1.05, ha='center', fontsize='xx-large')\n",
    "train_df.hist(column='windspeed',ax=axes[0,0])\n",
    "train_df.hist(column='humidity', ax=axes[1,0])\n",
    "train_df.hist(column='temp', ax=axes[0,1])\n",
    "train_df.hist(column='atemp', ax=axes[1,1])\n"
   ]
  },
  {
   "cell_type": "markdown",
   "metadata": {},
   "source": [
    "<a id=\"num_dist\"></a>\n",
    "### Numerical variable distributions and scaling\n",
    "Visually looking at the histograms, windspeed clearly does not look like a guassian (normal) distribution, the other three (temp,atemp, and humidity) are hard to tell.  It is possible that these three could be close enough to a guassian that that using standardization v.s. normalization will be OK for scaling the features.  \n",
    "Below is a generic function that takes in a pandas series, then performs _[four popular ways to check for normality](https://machinelearningmastery.com/a-gentle-introduction-to-normality-tests-in-python/)_.\n",
    "1. Quantile-Quantile Plot (QQPlot)\n",
    "2. Shapiro-Wilk Test\n",
    "3. D’Agostino’s K^2 Test\n",
    "4. Anderson-Darling Test\n",
    "\n",
    "**Results:**  All four of the features \"failed\" all four of the ways to check for a guassian distribution."
   ]
  },
  {
   "cell_type": "code",
   "execution_count": 37,
   "metadata": {
    "collapsed": true
   },
   "outputs": [],
   "source": [
    "def normality_checks(feature_col):\n",
    "    \"\"\"\n",
    " will take in the feature column, series (slice) of the pandas df then\n",
    "    1. plot the qqplot, \n",
    "    2. print the Shapiro-Wilk stats and pvalue\n",
    "    3. skew and kurtosis normal test stats, \n",
    "    4. the anderson test results\n",
    "    \"\"\"\n",
    "    print(\"\\nResults of normality tests for the {0} feature:\".format(feature_col.name))\n",
    "    qqplot(feature_col, line='s')\n",
    "    plt.show()\n",
    "    stat, p = shapiro(feature_col)\n",
    "    if feature_col.shape[0]>5000:\n",
    "        print(\"Note: in the Shapiro-Wilk test for normality: for N > 5000 the W test statistic is accurate but the p-value may not be.\")\n",
    "    print('Shapiro-Wilk statistics=%.3f, p=%.3f' % (stat, p))\n",
    "    stat, p = normaltest(feature_col)\n",
    "    print('D’Agostino’s K^2 Test statistics=%.3f, p=%.3f' % (stat, p))\n",
    "    # interpret\n",
    "    alpha = 0.05\n",
    "    if p > alpha:\n",
    "        print('Sample looks Gaussian (fail to reject H0)')\n",
    "    else:\n",
    "        print('Sample does not look Gaussian (reject H0)')\n",
    "    result = anderson(feature_col)\n",
    "    print('Anderson-Darling test statistic: %.3f' % result.statistic)\n",
    "    p = 0\n",
    "    for i in range(len(result.critical_values)):\n",
    "        sl, cv = result.significance_level[i], result.critical_values[i]\n",
    "        if result.statistic < result.critical_values[i]:\n",
    "            print('%.3f: %.3f, data looks normal (fail to reject H0)' % (sl, cv))\n",
    "        else:\n",
    "            print('%.3f: %.3f, data does not look normal (reject H0)' % (sl, cv))\n",
    " "
   ]
  },
  {
   "cell_type": "code",
   "execution_count": 38,
   "metadata": {},
   "outputs": [
    {
     "name": "stdout",
     "output_type": "stream",
     "text": [
      "\n",
      "Results of normality tests for the temp feature:\n"
     ]
    },
    {
     "data": {
      "image/png": "[encoded data removed]",
      "text/plain": [
       "<Figure size 432x288 with 1 Axes>"
      ]
     },
     "metadata": {},
     "output_type": "display_data"
    },
    {
     "name": "stdout",
     "output_type": "stream",
     "text": [
      "Note: in the Shapiro-Wilk test for normality: for N > 5000 the W test statistic is accurate but the p-value may not be.\n",
      "Shapiro-Wilk statistics=0.980, p=0.000\n",
      "D’Agostino’s K^2 Test statistics=1602.676, p=0.000\n",
      "Sample does not look Gaussian (reject H0)\n",
      "Anderson-Darling test statistic: 67.806\n",
      "15.000: 0.576, data does not look normal (reject H0)\n",
      "10.000: 0.656, data does not look normal (reject H0)\n",
      "5.000: 0.787, data does not look normal (reject H0)\n",
      "2.500: 0.918, data does not look normal (reject H0)\n",
      "1.000: 1.092, data does not look normal (reject H0)\n",
      "\n",
      "Results of normality tests for the atemp feature:\n"
     ]
    },
    {
     "name": "stderr",
     "output_type": "stream",
     "text": [
      "/anaconda3/lib/python3.6/site-packages/scipy/stats/morestats.py:1653: UserWarning: p-value may not be accurate for N > 5000.\n",
      "  warnings.warn(\"p-value may not be accurate for N > 5000.\")\n"
     ]
    },
    {
     "data": {
      "image/png": "[encoded data removed]",
      "text/plain": [
       "<Figure size 432x288 with 1 Axes>"
      ]
     },
     "metadata": {},
     "output_type": "display_data"
    },
    {
     "name": "stdout",
     "output_type": "stream",
     "text": [
      "Note: in the Shapiro-Wilk test for normality: for N > 5000 the W test statistic is accurate but the p-value may not be.\n",
      "Shapiro-Wilk statistics=0.982, p=0.000\n",
      "D’Agostino’s K^2 Test statistics=1190.222, p=0.000\n",
      "Sample does not look Gaussian (reject H0)\n",
      "Anderson-Darling test statistic: 66.921\n",
      "15.000: 0.576, data does not look normal (reject H0)\n",
      "10.000: 0.656, data does not look normal (reject H0)\n",
      "5.000: 0.787, data does not look normal (reject H0)\n",
      "2.500: 0.918, data does not look normal (reject H0)\n",
      "1.000: 1.092, data does not look normal (reject H0)\n",
      "\n",
      "Results of normality tests for the humidity feature:\n"
     ]
    },
    {
     "data": {
      "image/png": "[encoded data removed]",
      "text/plain": [
       "<Figure size 432x288 with 1 Axes>"
      ]
     },
     "metadata": {},
     "output_type": "display_data"
    },
    {
     "name": "stdout",
     "output_type": "stream",
     "text": [
      "Note: in the Shapiro-Wilk test for normality: for N > 5000 the W test statistic is accurate but the p-value may not be.\n",
      "Shapiro-Wilk statistics=0.982, p=0.000\n",
      "D’Agostino’s K^2 Test statistics=776.283, p=0.000\n",
      "Sample does not look Gaussian (reject H0)\n",
      "Anderson-Darling test statistic: 51.138\n",
      "15.000: 0.576, data does not look normal (reject H0)\n",
      "10.000: 0.656, data does not look normal (reject H0)\n",
      "5.000: 0.787, data does not look normal (reject H0)\n",
      "2.500: 0.918, data does not look normal (reject H0)\n",
      "1.000: 1.092, data does not look normal (reject H0)\n",
      "\n",
      "Results of normality tests for the windspeed feature:\n"
     ]
    },
    {
     "data": {
      "image/png": "[encoded data removed]",
      "text/plain": [
       "<Figure size 432x288 with 1 Axes>"
      ]
     },
     "metadata": {},
     "output_type": "display_data"
    },
    {
     "name": "stdout",
     "output_type": "stream",
     "text": [
      "Note: in the Shapiro-Wilk test for normality: for N > 5000 the W test statistic is accurate but the p-value may not be.\n",
      "Shapiro-Wilk statistics=0.959, p=0.000\n",
      "D’Agostino’s K^2 Test statistics=650.631, p=0.000\n",
      "Sample does not look Gaussian (reject H0)\n",
      "Anderson-Darling test statistic: 98.057\n",
      "15.000: 0.576, data does not look normal (reject H0)\n",
      "10.000: 0.656, data does not look normal (reject H0)\n",
      "5.000: 0.787, data does not look normal (reject H0)\n",
      "2.500: 0.918, data does not look normal (reject H0)\n",
      "1.000: 1.092, data does not look normal (reject H0)\n"
     ]
    }
   ],
   "source": [
    "numerical_features=['temp', 'atemp', 'humidity', 'windspeed']\n",
    "#print the normality checks for the numerical features\n",
    "for num_feature in numerical_features:\n",
    "    normality_checks(train_df[num_feature])"
   ]
  },
  {
   "cell_type": "markdown",
   "metadata": {},
   "source": [
    "<a id=\"scaling\"></a>\n",
    "### Data Scaling\n",
    "I will proceed to choose a scaling option more ideal for non guassian distributions.  In addition to using the histograms above, the spread is checked by printing the mean and standard deviation to determine whether or I go with a standard scaler or a more robust one.  For more detail on scikit's Preprocessing data go [here](https://scikit-learn.org/stable/modules/preprocessing.html).  \n",
    "I have decided to go with the **RobustScaler** because I see some outliers and the spread is siginificant relative mean.  This will scale the data to a slightly larger range than 1 or 2, by using the _median and interquartile range_ v.s. the _mean and variance_ AND they will each have different ranges but not as different than the original range.  My intution is factoring in the weight of the edge values for these features will be helpful information in determining the count of rentals.  [More helpful information on deciding how to scale is here.](https://scikit-learn.org/stable/auto_examples/preprocessing/plot_all_scaling.html#sphx-glr-auto-examples-preprocessing-plot-all-scaling-py)\n",
    "\n",
    "  \n",
    "\n",
    "      "
   ]
  },
  {
   "cell_type": "code",
   "execution_count": 39,
   "metadata": {},
   "outputs": [
    {
     "name": "stdout",
     "output_type": "stream",
     "text": [
      "temp: mean=20.230859819952173 standard deviation=7.791231963738185\n",
      "atemp: mean=23.65508405291192 standard deviation=8.47421137445214\n",
      "humidity: mean=61.88645967297446 standard deviation=19.24414932207303\n",
      "windspeed: mean=12.799395406945093 standard deviation=8.164162316511634\n"
     ]
    },
    {
     "data": {
      "text/plain": [
       "array([<matplotlib.axes._subplots.AxesSubplot object at 0x1a23807b00>],\n",
       "      dtype=object)"
      ]
     },
     "execution_count": 39,
     "metadata": {},
     "output_type": "execute_result"
    },
    {
     "data": {
      "image/png": "[encoded data removed]",
      "text/plain": [
       "<Figure size 1152x576 with 4 Axes>"
      ]
     },
     "metadata": {},
     "output_type": "display_data"
    }
   ],
   "source": [
    "#print mean and std\n",
    "for feat in numerical_features:\n",
    "    mean=np.mean(train_df[feat])\n",
    "    std=np.std(train_df[feat])\n",
    "    print(\"{0}: mean={1} standard deviation={2}\".format(feat,mean,std))\n",
    "\n",
    "#Robust scaler will scale each feature in the list numeric_cols, and return a numpy matrix\n",
    "train_robscaled=preprocessing.RobustScaler(quantile_range=(25, 75)).fit_transform(train_df[numerical_features])\n",
    "#convert to a pandas dataframe with the headers\n",
    "train_df_rscaled=pd.DataFrame(train_robscaled, dtype=float, columns=numerical_features)\n",
    "#scale and distribution after the scaling\n",
    "fig, axes = plt.subplots(nrows=2, ncols=2)\n",
    "fig.set_size_inches(16, 8, forward=True)\n",
    "plt.suptitle('Distribution of numerical variables after robust scaling', x=0.5, y=1.05, ha='center', fontsize='xx-large')\n",
    "train_df_rscaled.hist(column='windspeed',ax=axes[0,0])\n",
    "train_df_rscaled.hist(column='humidity', ax=axes[1,0])\n",
    "train_df_rscaled.hist(column='temp', ax=axes[0,1])\n",
    "train_df_rscaled.hist(column='atemp', ax=axes[1,1])\n"
   ]
  },
  {
   "cell_type": "markdown",
   "metadata": {},
   "source": [
    "<a id=\"cat_dist\"></a>\n",
    "### Distribution of categorical variables\n",
    "The classes are relatively spread out, except for workday, holiday and weather type. Data is collected for every hour, so the bias is not from collection but from the weather in DC, and that there are more workdays than holidays in a year."
   ]
  },
  {
   "cell_type": "code",
   "execution_count": 40,
   "metadata": {},
   "outputs": [
    {
     "name": "stdout",
     "output_type": "stream",
     "text": [
      "Index(['datetime', 'season', 'holiday', 'workingday', 'weather', 'temp',\n",
      "       'atemp', 'humidity', 'windspeed', 'casual', 'registered', 'count',\n",
      "       'hourofday'],\n",
      "      dtype='object')\n"
     ]
    },
    {
     "data": {
      "text/plain": [
       "<matplotlib.axes._subplots.AxesSubplot at 0x1a2443a9e8>"
      ]
     },
     "execution_count": 40,
     "metadata": {},
     "output_type": "execute_result"
    },
    {
     "data": {
      "image/png": "[encoded data removed]",
      "text/plain": [
       "<Figure size 1152x576 with 6 Axes>"
      ]
     },
     "metadata": {},
     "output_type": "display_data"
    }
   ],
   "source": [
    "\n",
    "print(train_df.columns)\n",
    "#pd.value_counts(train_df[\"weather\"]).plot.bar()\n",
    "#pd.value_counts(train_df[\"season\"]).plot.bar()\n",
    "\n",
    "fig, axes = plt.subplots(nrows=2, ncols=3)\n",
    "fig.set_size_inches(16, 8, forward=True)\n",
    "plt.suptitle('Distribution of categorical variables', x=0.5, y=1.05, ha='center', fontsize='xx-large')\n",
    "pd.value_counts(train_df[\"holiday\"]).plot.bar(ax=axes[0,0], title=\"count by holiday (or not)\")\n",
    "pd.value_counts(train_df[\"workingday\"]).plot.bar(ax=axes[0,1], title=\"count by workday (or not)\")\n",
    "pd.value_counts(train_df[\"hourofday\"]).plot.bar(ax=axes[0,2], title=\"count by hourofday\")\n",
    "pd.value_counts(train_df[\"weather\"]).plot.bar(ax=axes[1,0], title=\"count by weather type\")\n",
    "pd.value_counts(train_df[\"season\"]).plot.bar(ax=axes[1,1], title=\"count by season type\")\n",
    "#pd.value_counts(train_df[\"windspeed\"]).plot(ax=axes[1,2], title=\"count by windspeed\")\n",
    "train_df.plot.scatter(x='windspeed',\n",
    "                       y='count',\n",
    "                       c='DarkBlue',ax=axes[1,2], title=\"count by windspeed\")\n",
    "\n"
   ]
  },
  {
   "cell_type": "markdown",
   "metadata": {},
   "source": [
    "<a id=\"log_trans\"></a>\n",
    "### Transformation of the target variable\n",
    "I did not get good results with linear regression and got better results with Gradient Boosting and KNN.  [Log transformation of the target linearizes them](https://scikit-learn.org/stable/auto_examples/compose/plot_transformed_target.html).  A comparison will be shown below in this notebook where linear regression is used.\n",
    "Using the logarithm of one or more variables instead of the un-logged form makes the effective relationship non-linear, while still preserving the linear model.\n",
    "Logarithmic transformations are also a convenient means of transforming a highly skewed variable into one that is more approximately normal.\n"
   ]
  },
  {
   "cell_type": "code",
   "execution_count": 42,
   "metadata": {},
   "outputs": [
    {
     "data": {
      "text/plain": [
       "Text(0.5,1.05,'Distribution of total count before and after log transform')"
      ]
     },
     "execution_count": 42,
     "metadata": {},
     "output_type": "execute_result"
    },
    {
     "data": {
      "image/png": "[encoded data removed]",
      "text/plain": [
       "<Figure size 1152x576 with 2 Axes>"
      ]
     },
     "metadata": {},
     "output_type": "display_data"
    }
   ],
   "source": [
    "fig, axes = plt.subplots(nrows=1, ncols=2)\n",
    "fig.set_size_inches(16, 8, forward=True)\n",
    "train_df['count'].hist(ax=axes[0])\n",
    "y_trans = np.log1p(train_df['count'])\n",
    "y_trans.hist()\n",
    "plt.suptitle('Distribution of total count before and after log transform', x=0.5, y=1.05, ha='center', fontsize='xx-large')\n"
   ]
  },
  {
   "cell_type": "code",
   "execution_count": 43,
   "metadata": {
    "collapsed": true
   },
   "outputs": [],
   "source": [
    "#one hot encoding on the categorial fields, keeping the original columns\n",
    "\n",
    "train_df = pd.concat([train_df, pd.get_dummies(train_df, columns = ['season','weather'] )], axis=1)\n",
    "#train_df = pd.get_dummies(train_df, columns = ['season','weather'] )"
   ]
  },
  {
   "cell_type": "code",
   "execution_count": 75,
   "metadata": {},
   "outputs": [],
   "source": [
    "#putting together the feature df and target df\n",
    "\n",
    "\n",
    "\n",
    "cat_features=['holiday', 'workingday','hourofday', 'season_1',\n",
    "       'season_2', 'season_3', 'season_4', 'weather_1', 'weather_2',\n",
    "       'weather_3', 'weather_4']\n",
    "#put the features together into one df\n",
    "X=pd.concat([train_df_rscaled, train_df[cat_features]], axis=1)\n",
    "train_df = train_df.loc[:,~train_df.columns.duplicated()]\n",
    "y=train_df['count']  \n",
    "\n",
    "#y_trans was created above, which is the log transformed target\n",
    "\n",
    "#create training and test splits for the original and log transformed target\n",
    "X_train, X_test, y_train, y_test = train_test_split(X,y,test_size=0.3)#, random_state=30)\n",
    "\n",
    "X_train2, X_test2, y_train2, y_test2 = train_test_split(X,y_trans,test_size=0.3)\n"
   ]
  },
  {
   "cell_type": "code",
   "execution_count": 79,
   "metadata": {},
   "outputs": [
    {
     "name": "stdout",
     "output_type": "stream",
     "text": [
      "Linear Regression results on original target\n",
      "Test score: 0.3530655440289421, RMSE: 147.2811507015047\n",
      "Cross validation scores: [-0.08095366  0.13500295  0.14734384]\n",
      "Training score: 0.34332754762425266\n",
      "\n",
      "Linear Regression results on log transformed target\n",
      "Linear Regression test score: 0.4596060518665407, MAE: 0.8194920977264387\n",
      "Cross validation scores: [0.39669657 0.32998738 0.40589617]\n",
      "Training score: 0.47977954191295535\n",
      "\n"
     ]
    }
   ],
   "source": [
    "#create two linear regression models to compare the original and log transformed target\n",
    "linear_model = LinearRegression()\n",
    "linear_model2 = LinearRegression()\n",
    "\n",
    "linear_model.fit(X_train, y_train)\n",
    "linear_model2.fit(X_train2, y_train2)\n",
    "\n",
    "y_pred_lg = linear_model.predict(X_test)\n",
    "y_pred_lg2 = linear_model2.predict(X_test2)\n",
    "\n",
    "score=linear_model.score(X_test,y_test)\n",
    "score2=linear_model2.score(X_test2,y_test2)\n",
    "\n",
    "rmse = mean_squared_error(y_test, linear_model.predict(X_test))**0.5\n",
    "#rmse2 = mean_squared_error(y_test2, linear_model2.predict(X_test2))**0.5\n",
    "mae=mean_absolute_error(y_test2, linear_model2.predict(X_test2))\n",
    "scores = cross_val_score(linear_model, X, y, cv=3)\n",
    "scores2 = cross_val_score(linear_model2, X, y_trans, cv=3)\n",
    "\n",
    "print(\"Linear Regression results on original target\")\n",
    "print(\"Test score: {0}, RMSE: {1}\".format(score, rmse))\n",
    "print(\"Cross validation scores: {0}\".format(scores))\n",
    "print(\"Training score: {0}\\n\".format(linear_model.score(X_train,y_train)))\n",
    "print(\"Linear Regression results on log transformed target\")\n",
    "print(\"Linear Regression test score: {0}, MAE: {1}\".format(score2, mae))\n",
    "print(\"Cross validation scores: {0}\".format(scores2))\n",
    "print(\"Training score: {0}\\n\".format(linear_model2.score(X_train2,y_train2)))\n",
    "\n",
    "#additional option for improvement: adding interaction terms - any two variables"
   ]
  },
  {
   "cell_type": "markdown",
   "metadata": {},
   "source": [
    "<a id=\"lg\"></a>\n",
    "### Linear Regression results\n",
    "Log transformation of the target helped give better results and more consistent cross validation scores, but they are still not great, even on the training set. RMSE is low for the log transformed since square distance will be a much smaller range."
   ]
  },
  {
   "cell_type": "code",
   "execution_count": 67,
   "metadata": {},
   "outputs": [
    {
     "name": "stdout",
     "output_type": "stream",
     "text": [
      "GradientBoostingRegressor results using the original target\n",
      "Score: 0.7777110027294134, RMSE: 84.87264226418331\n",
      "Cross validation scores: [-0.8441228   0.57312354  0.45451737  0.62174691  0.69560068  0.59253868]\n",
      "Score on the training set: 0.7914460087995404\n",
      "\n",
      "GradientBoostingRegressor results using the log transformed target\n",
      "Score: 0.895755718890082, MAE: 0.3472815810352337\n",
      "Cross validation scores: [0.62196048 0.89615372 0.83379067 0.7569066  0.88841586 0.83066377]\n",
      "Score on the training set: 0.906744436693435\n"
     ]
    }
   ],
   "source": [
    "# #GradientBoostingRegressor\n",
    "# #params={'n_estimators': 500, 'max_depth': 4, 'min_samples_split': 2,\n",
    "# #          'learning_rate': 0.01, 'loss': 'ls'}\n",
    "\n",
    "#print(y_train['count'])\n",
    "gbr_model=GradientBoostingRegressor()#**params)\n",
    "gbr_model.fit(X_train, y_train)\n",
    "score=gbr_model.score(X_test,y_test)\n",
    "rmse = mean_squared_error(y_test, gbr_model.predict(X_test))**0.5\n",
    "print(\"GradientBoostingRegressor results using the original target\")\n",
    "print(\"Score: {0}, RMSE: {1}\".format(score, rmse))\n",
    "scores = cross_val_score(gbr_model, X, y, cv=6, scoring='r2')\n",
    "print(\"Cross validation scores: {0}\".format(scores))\n",
    "score_train=gbr_model.score(X_train, y_train)\n",
    "print(\"Score on the training set: {0}\".format(score_train))\n",
    "#feat_sorted=sorted(zip(X_train.columns,gbr_model.feature_importances_), key=lambda x: x[1], reverse=True)\n",
    "#print(\"important features sorted: {0}\\n\".format(feat_sorted))\n",
    "\n",
    "#Using the log transformed target\n",
    "gbr_model2=GradientBoostingRegressor()#**params)\n",
    "gbr_model2.fit(X_train2, y_train2)\n",
    "score2=gbr_model2.score(X_test2,y_test2)\n",
    "scores2 = cross_val_score(gbr_model2, X, y_trans, cv=6, scoring='r2')\n",
    "#rmse2 = mean_squared_error(y_test2, gbr_model2.predict(X_test2))**0.5\n",
    "mae=mean_absolute_error(y_test2, gbr_model2.predict(X_test2))\n",
    "score_train2=gbr_model2.score(X_train2, y_train2)\n",
    "print(\"\\nGradientBoostingRegressor results using the log transformed target\")\n",
    "print(\"Score: {0}, MAE: {1}\".format(score2,mae))\n",
    "print(\"Cross validation scores: {0}\".format(scores2))\n",
    "print(\"Score on the training set: {0}\".format(score_train2))\n",
    "#feat_sorted2=sorted(zip(X_train2.columns,gbr_model2.feature_importances_), key=lambda x: x[1], reverse=True)\n",
    "#print(\"important features sorted: {0}\\n\".format(feat_sorted2))"
   ]
  },
  {
   "cell_type": "code",
   "execution_count": 68,
   "metadata": {},
   "outputs": [
    {
     "name": "stdout",
     "output_type": "stream",
     "text": [
      "KNeighborsRegressor results using the original target\n",
      "Score: 0.7895113908500595, RMSE: 82.58915804348598\n",
      "Cross validation scores: [-1.29277177  0.46616726  0.27622234  0.62487436  0.74679915  0.65824752]\n",
      "Score on the training set: 0.8731096134442167\n",
      "\n",
      "KNeighborsRegressor results using the log transformed target\n",
      "Score: 0.8938013077462935, MAE: 0.34571424920162613\n",
      "Cross validation scores: [0.57908035 0.89257404 0.82193147 0.7730608  0.89083121 0.85533669]\n",
      "Score on the training set: 0.9368971155452445\n",
      "\n"
     ]
    }
   ],
   "source": [
    "knn_model=KNeighborsRegressor()#n_neighbors=10)\n",
    "knn_model.fit(X_train, y_train)\n",
    "y_pred_knn=knn_model.predict(X_test)\n",
    "rmse = mean_squared_error(y_test, y_pred_knn)**0.5\n",
    "score=knn_model.score(X_test, y_test)\n",
    "print(\"KNeighborsRegressor results using the original target\")\n",
    "print(\"Score: {0}, RMSE: {1}\".format(score, rmse))\n",
    "scores = cross_val_score(knn_model, X, y, cv=6)\n",
    "print(\"Cross validation scores: {0}\".format(scores))\n",
    "score_train=knn_model.score(X_train, y_train)\n",
    "print(\"Score on the training set: {0}\\n\".format(score_train))\n",
    "\n",
    "knn_model2=KNeighborsRegressor()#n_neighbors=10)\n",
    "knn_model2.fit(X_train2, y_train2)\n",
    "y_pred_knn2=knn_model2.predict(X_test2)\n",
    "y_pred_knn2=np.expm1(y_pred_knn2)\n",
    "\n",
    "#rmse2 = mean_squared_error(y_test2, y_pred_knn2)**0.5\n",
    "mae=mean_absolute_error(y_test2,knn_model2.predict(X_test2))\n",
    "score2=knn_model2.score(X_test2, y_test2)\n",
    "print(\"KNeighborsRegressor results using the log transformed target\")\n",
    "print(\"Score: {0}, MAE: {1}\".format(score2, mae))\n",
    "scores2 = cross_val_score(knn_model2, X, y_trans, cv=6)\n",
    "print(\"Cross validation scores: {0}\".format(scores2))\n",
    "score_train2=knn_model2.score(X_train2, y_train2)\n",
    "print(\"Score on the training set: {0}\\n\".format(score_train2))"
   ]
  },
  {
   "cell_type": "code",
   "execution_count": 69,
   "metadata": {},
   "outputs": [
    {
     "name": "stdout",
     "output_type": "stream",
     "text": [
      "GradientBoostingRegressor (gridcv params) results using the original target\n",
      "Score: 0.8548465146698202, MSE: 68.58394676888341\n",
      "Cross validation scores: [-0.75506403  0.50823554  0.37811636  0.56748095  0.75579139  0.67427451]\n",
      "Score on the training set: 0.9110587042183288\n",
      "\n",
      "GradientBoostingRegressor (gridcv params) using the log transformed target\n",
      "Score: 0.9233621170462397, RMSE: 0.3923204675143053\n",
      "Cross validation scores: [0.66713759 0.89722966 0.85621039 0.76402341 0.90125035 0.86511085]\n",
      "Score on the training set: 0.95349987151584\n",
      "\n"
     ]
    }
   ],
   "source": [
    "#results from gridCV for GBR -- see the appendix\n",
    "\n",
    "params={'learning_rate': 0.1,\n",
    " 'max_depth': 11,\n",
    " 'max_features': 7,\n",
    " 'min_samples_leaf': 5,\n",
    " 'min_samples_split': 150,\n",
    " 'n_estimators': 90}\n",
    "\n",
    "gbr_model=GradientBoostingRegressor(**params)\n",
    "gbr_model.fit(X_train, y_train)\n",
    "score=gbr_model.score(X_test,y_test)\n",
    "rmse = mean_squared_error(y_test, gbr_model.predict(X_test))**0.5\n",
    "print(\"GradientBoostingRegressor (gridcv params) results using the original target\")\n",
    "print(\"Score: {0}, MSE: {1}\".format(score, rmse))\n",
    "scores = cross_val_score(gbr_model, X, y, cv=6)#, scoring=r2_score)\n",
    "print(\"Cross validation scores: {0}\".format(scores))\n",
    "score_train=gbr_model.score(X_train, y_train)\n",
    "print(\"Score on the training set: {0}\\n\".format(score_train))\n",
    "\n",
    "gbr_model2=GradientBoostingRegressor(**params)\n",
    "gbr_model2.fit(X_train2, y_train2)\n",
    "score2=gbr_model2.score(X_test2,y_test2)\n",
    "rmse2 = mean_squared_error(y_test2, gbr_model2.predict(X_test2))**0.5\n",
    "print(\"GradientBoostingRegressor (gridcv params) using the log transformed target\")\n",
    "print(\"Score: {0}, RMSE: {1}\".format(score2, rmse2))\n",
    "scores2 = cross_val_score(gbr_model2, X, y_trans, cv=6)\n",
    "print(\"Cross validation scores: {0}\".format(scores2))\n",
    "score_train2=gbr_model2.score(X_train2, y_train2)\n",
    "print(\"Score on the training set: {0}\\n\".format(score_train2))\n"
   ]
  },
  {
   "cell_type": "code",
   "execution_count": 72,
   "metadata": {},
   "outputs": [
    {
     "name": "stdout",
     "output_type": "stream",
     "text": [
      "XGBRegressor results using the original target\n",
      "Score: 0.783781340366834, RMSE: 83.59099125105352\n",
      "Cross validation scores: [-0.8276285   0.57205874  0.45322395  0.61533007  0.68772001  0.58290404]\n",
      "Score on the training set: 0.7977614569491049\n",
      "\n",
      "XGBRegressor results using the log transformed target\n",
      "Score: 0.9008684350328672, RMSE: 0.4559963630972498\n",
      "Cross validation scores: [0.62300857 0.88879437 0.84089347 0.75982316 0.88761026 0.83264192]\n",
      "Score on the training set: 0.9055671742791472\n"
     ]
    }
   ],
   "source": [
    "import xgboost as xgb\n",
    "\n",
    "xgb_model=xgb.XGBRegressor()\n",
    "xgb_model.fit(X_train, y_train)\n",
    "score=xgb_model.score(X_test,y_test)  \n",
    "rmse = mean_squared_error(y_test, xgb_model.predict(X_test))**0.5\n",
    "print(\"XGBRegressor results using the original target\")\n",
    "print(\"Score: {0}, RMSE: {1}\".format(score, rmse))\n",
    "scores = cross_val_score(xgb_model, X, y, cv=6)\n",
    "print(\"Cross validation scores: {0}\".format(scores))\n",
    "score_train=xgb_model.score(X_train, y_train)\n",
    "print(\"Score on the training set: {0}\\n\".format(score_train))\n",
    "\n",
    "xgb_model2=xgb.XGBRegressor()\n",
    "xgb_model2.fit(X_train2, y_train2)\n",
    "score2=xgb_model2.score(X_test2,y_test2)  \n",
    "rmse2 = mean_squared_error(y_test2, xgb_model2.predict(X_test2))**0.5\n",
    "score_train2=xgb_model2.score(X_train2, y_train2)\n",
    "print(\"XGBRegressor results using the log transformed target\")\n",
    "print(\"Score: {0}, RMSE: {1}\".format(score2, rmse2))\n",
    "scores2 = cross_val_score(xgb_model2, X, y_trans, cv=6)\n",
    "print(\"Cross validation scores: {0}\".format(scores2))\n",
    "print(\"Score on the training set: {0}\".format(score_train2))\n"
   ]
  },
  {
   "cell_type": "markdown",
   "metadata": {},
   "source": [
    "\n"
   ]
  },
  {
   "cell_type": "markdown",
   "metadata": {},
   "source": [
    "<a id=\"results\"></a>\n",
    "## Results using GradientBoostingRegressor, KNeighborsRegressor, XGBRegressor\n",
    "All of these, using the baseline scikit learn models, had better results using the log transformed target, and these results were pretty close to each other.  Which to choose for deployment would depend on factors that matter most, such as how long it takes to predict a value, how long to train the model (initially but for updates adding in new data), and space/cpu constraints, model interpretibility. XGB is faster with parallel processing,  more regularized though in the above results, overfitting was not an issue. \n",
    "\n",
    "[Using GridCV](#gridcv) to come up with the best parameters for GradientBoostingRegressor gave a slight bump in the results using the original target value. I have the code [below](#gridcv) in the appendix. "
   ]
  },
  {
   "cell_type": "markdown",
   "metadata": {
    "collapsed": true
   },
   "source": [
    "<a id=\"append\"></a>\n",
    "## Appendix"
   ]
  },
  {
   "cell_type": "markdown",
   "metadata": {},
   "source": [
    "<a id=\"gridcv\"></a>\n",
    "### Grid search on hyperparameters for GBR\n",
    "```python\n",
    "#Hyperparameter tuning on GBR - my poor CPU \n",
    "\n",
    "param_grid={'n_estimators':range(20,100,10),\n",
    "            'learning_rate': [0.1, 0.05, 0.02, 0.075], \n",
    "            \n",
    "            'min_samples_split':[150, 500, 750, 1000,1500], #based on number of samples, and account for some small classes\n",
    "            'max_depth':range(1,12,2), #14 features max\n",
    "            'min_samples_leaf':[1,3,5,9,17,40,50], \n",
    "             'max_features':range(1,8,1)} \n",
    "    \n",
    "cv = KFold(n_splits=5, shuffle=True) \n",
    "\n",
    "n_jobs=4        \n",
    "\n",
    "classifier = GridSearchCV(estimator=GradientBoostingRegressor(), cv=cv, param_grid=param_grid, n_jobs=n_jobs) \n",
    "classifier.fit(X_train, y_train) \n",
    "print(\"Best Estimator learned through GridSearch\")\n",
    "print(classifier.get_params)\n",
    "```\n",
    "**Print out of the results:**\n",
    "\n",
    "```python\n",
    "Best Estimator learned through GridSearch\n",
    "<bound method BaseEstimator.get_params of GridSearchCV(cv=KFold(n_splits=5, random_state=None, shuffle=True),\n",
    "       error_score='raise-deprecating',\n",
    "       estimator=GradientBoostingRegressor(alpha=0.9, criterion='friedman_mse', init=None,\n",
    "             learning_rate=0.1, loss='ls', max_depth=3, max_features=None,\n",
    "             max_leaf_nodes=None, min_impurity_decrease=0.0,\n",
    "             min_impurity_split=None, min_samples_leaf=1,\n",
    "             min_sampl...=None, subsample=1.0, tol=0.0001,\n",
    "             validation_fraction=0.1, verbose=0, warm_start=False),\n",
    "       fit_params=None, iid='warn', n_jobs=4,\n",
    "       param_grid={'n_estimators': range(20, 100, 10), 'learning_rate': [0.1, 0.05, 0.02, 0.075], 'min_samples_split': [150, 500, 750, 1000, 1500], 'max_depth': range(1, 12, 2), 'min_samples_leaf': [1, 3, 5, 9, 17, 40, 50], 'max_features': range(1, 8)},\n",
    "       pre_dispatch='2*n_jobs', refit=True, return_train_score='warn',\n",
    "       scoring=None, verbose=0)>\n",
    "```\n"
   ]
  },
  {
   "cell_type": "markdown",
   "metadata": {
    "collapsed": true
   },
   "source": [
    "<a id=\"pipeline\"></a>\n",
    "### Pipeline demonstration using linear regression"
   ]
  },
  {
   "cell_type": "code",
   "execution_count": 73,
   "metadata": {},
   "outputs": [
    {
     "name": "stdout",
     "output_type": "stream",
     "text": [
      "[ 1.99156874e-01 -1.36770990e+21  2.02900028e-01]\n"
     ]
    }
   ],
   "source": [
    "#  preprocessing pipelines for both numeric and categorical data.\n",
    "\n",
    "numerical_features = ['temp', 'atemp', 'humidity', 'windspeed'] \n",
    "categorical_features = ['season','weather']\n",
    "\n",
    "preprocess = make_column_transformer(\n",
    "    (preprocessing.RobustScaler(),numerical_features),\n",
    "    (preprocessing.OneHotEncoder(), categorical_features))\n",
    "\n",
    "lg_pipeline = make_pipeline(\n",
    "    preprocess,\n",
    "    LinearRegression())\n",
    "regressor=LinearRegression()\n",
    "\n",
    "def ltrans(x):\n",
    "     return np.log1p(x)\n",
    "\n",
    "#experimenting with target tx pipeline    \n",
    "#regr = TransformedTargetRegressor(regressor=regressor,\n",
    "#                                   log_transformer=ltrans)\n",
    "\n",
    "numeric_transformer = Pipeline(steps=[\n",
    "#    #('imputer', SimpleImputer(strategy='median')),\n",
    "    ('scaler', preprocessing. RobustScaler())])\n",
    "\n",
    "categorical_transformer = Pipeline(steps=[\n",
    "#    #('imputer', SimpleImputer(strategy='constant', fill_value='missing')),\n",
    "    ('onehot', preprocessing.OneHotEncoder(handle_unknown='ignore'))])\n",
    "\n",
    "preprocessor = ColumnTransformer(\n",
    "    transformers=[\n",
    "        ('num', numeric_transformer, numerical_features),\n",
    "        ('cat', categorical_transformer, categorical_features)])\n",
    "\n",
    "linear_pipeline = Pipeline(steps=[('preprocessor', preprocessor),\n",
    "                      ('classifier', LinearRegression())])\n",
    "\n",
    "X = train_df.drop(['datetime','casual', 'registered', 'count'], axis=1)\n",
    "y = ltrans(train_df['count'])\n",
    "\n",
    "#print(X.shape)\n",
    "#y2=y.values.reshape(1,-1)\n",
    "\n",
    "#print(y[:,1])\n",
    "scores = cross_val_score(linear_pipeline, X, y, cv=3)\n",
    "print(scores)\n"
   ]
  },
  {
   "cell_type": "code",
   "execution_count": 77,
   "metadata": {},
   "outputs": [
    {
     "ename": "ValueError",
     "evalue": "shapes (3266,15) and (18,) not aligned: 15 (dim 1) != 18 (dim 0)",
     "output_type": "error",
     "traceback": [
      "\u001b[0;31m---------------------------------------------------------------------------\u001b[0m",
      "\u001b[0;31mValueError\u001b[0m                                Traceback (most recent call last)",
      "\u001b[0;32m<ipython-input-77-f4d1a8f1a603>\u001b[0m in \u001b[0;36m<module>\u001b[0;34m()\u001b[0m\n\u001b[1;32m      1\u001b[0m \u001b[0;31m#plot the linear regression residuals to check for bias\u001b[0m\u001b[0;34m\u001b[0m\u001b[0;34m\u001b[0m\u001b[0;34m\u001b[0m\u001b[0m\n\u001b[1;32m      2\u001b[0m \u001b[0;31m#y_pred=linear_model.predict(X_test)\u001b[0m\u001b[0;34m\u001b[0m\u001b[0;34m\u001b[0m\u001b[0;34m\u001b[0m\u001b[0m\n\u001b[0;32m----> 3\u001b[0;31m \u001b[0my_pred2\u001b[0m\u001b[0;34m=\u001b[0m\u001b[0mlinear_model2\u001b[0m\u001b[0;34m.\u001b[0m\u001b[0mpredict\u001b[0m\u001b[0;34m(\u001b[0m\u001b[0mX_test2\u001b[0m\u001b[0;34m)\u001b[0m\u001b[0;34m\u001b[0m\u001b[0;34m\u001b[0m\u001b[0m\n\u001b[0m\u001b[1;32m      4\u001b[0m \u001b[0mfig\u001b[0m\u001b[0;34m,\u001b[0m \u001b[0maxes\u001b[0m \u001b[0;34m=\u001b[0m \u001b[0mplt\u001b[0m\u001b[0;34m.\u001b[0m\u001b[0msubplots\u001b[0m\u001b[0;34m(\u001b[0m\u001b[0mnrows\u001b[0m\u001b[0;34m=\u001b[0m\u001b[0;36m1\u001b[0m\u001b[0;34m,\u001b[0m \u001b[0mncols\u001b[0m\u001b[0;34m=\u001b[0m\u001b[0;36m2\u001b[0m\u001b[0;34m)\u001b[0m\u001b[0;34m\u001b[0m\u001b[0;34m\u001b[0m\u001b[0m\n\u001b[1;32m      5\u001b[0m \u001b[0mfig\u001b[0m\u001b[0;34m.\u001b[0m\u001b[0mset_size_inches\u001b[0m\u001b[0;34m(\u001b[0m\u001b[0;36m16\u001b[0m\u001b[0;34m,\u001b[0m \u001b[0;36m8\u001b[0m\u001b[0;34m,\u001b[0m \u001b[0mforward\u001b[0m\u001b[0;34m=\u001b[0m\u001b[0;32mTrue\u001b[0m\u001b[0;34m)\u001b[0m\u001b[0;34m\u001b[0m\u001b[0;34m\u001b[0m\u001b[0m\n",
      "\u001b[0;32m/anaconda3/lib/python3.6/site-packages/sklearn/linear_model/base.py\u001b[0m in \u001b[0;36mpredict\u001b[0;34m(self, X)\u001b[0m\n\u001b[1;32m    211\u001b[0m             \u001b[0mReturns\u001b[0m \u001b[0mpredicted\u001b[0m \u001b[0mvalues\u001b[0m\u001b[0;34m.\u001b[0m\u001b[0;34m\u001b[0m\u001b[0;34m\u001b[0m\u001b[0m\n\u001b[1;32m    212\u001b[0m         \"\"\"\n\u001b[0;32m--> 213\u001b[0;31m         \u001b[0;32mreturn\u001b[0m \u001b[0mself\u001b[0m\u001b[0;34m.\u001b[0m\u001b[0m_decision_function\u001b[0m\u001b[0;34m(\u001b[0m\u001b[0mX\u001b[0m\u001b[0;34m)\u001b[0m\u001b[0;34m\u001b[0m\u001b[0;34m\u001b[0m\u001b[0m\n\u001b[0m\u001b[1;32m    214\u001b[0m \u001b[0;34m\u001b[0m\u001b[0m\n\u001b[1;32m    215\u001b[0m     \u001b[0m_preprocess_data\u001b[0m \u001b[0;34m=\u001b[0m \u001b[0mstaticmethod\u001b[0m\u001b[0;34m(\u001b[0m\u001b[0m_preprocess_data\u001b[0m\u001b[0;34m)\u001b[0m\u001b[0;34m\u001b[0m\u001b[0;34m\u001b[0m\u001b[0m\n",
      "\u001b[0;32m/anaconda3/lib/python3.6/site-packages/sklearn/linear_model/base.py\u001b[0m in \u001b[0;36m_decision_function\u001b[0;34m(self, X)\u001b[0m\n\u001b[1;32m    196\u001b[0m         \u001b[0mX\u001b[0m \u001b[0;34m=\u001b[0m \u001b[0mcheck_array\u001b[0m\u001b[0;34m(\u001b[0m\u001b[0mX\u001b[0m\u001b[0;34m,\u001b[0m \u001b[0maccept_sparse\u001b[0m\u001b[0;34m=\u001b[0m\u001b[0;34m[\u001b[0m\u001b[0;34m'csr'\u001b[0m\u001b[0;34m,\u001b[0m \u001b[0;34m'csc'\u001b[0m\u001b[0;34m,\u001b[0m \u001b[0;34m'coo'\u001b[0m\u001b[0;34m]\u001b[0m\u001b[0;34m)\u001b[0m\u001b[0;34m\u001b[0m\u001b[0;34m\u001b[0m\u001b[0m\n\u001b[1;32m    197\u001b[0m         return safe_sparse_dot(X, self.coef_.T,\n\u001b[0;32m--> 198\u001b[0;31m                                dense_output=True) + self.intercept_\n\u001b[0m\u001b[1;32m    199\u001b[0m \u001b[0;34m\u001b[0m\u001b[0m\n\u001b[1;32m    200\u001b[0m     \u001b[0;32mdef\u001b[0m \u001b[0mpredict\u001b[0m\u001b[0;34m(\u001b[0m\u001b[0mself\u001b[0m\u001b[0;34m,\u001b[0m \u001b[0mX\u001b[0m\u001b[0;34m)\u001b[0m\u001b[0;34m:\u001b[0m\u001b[0;34m\u001b[0m\u001b[0;34m\u001b[0m\u001b[0m\n",
      "\u001b[0;32m/anaconda3/lib/python3.6/site-packages/sklearn/utils/extmath.py\u001b[0m in \u001b[0;36msafe_sparse_dot\u001b[0;34m(a, b, dense_output)\u001b[0m\n\u001b[1;32m    171\u001b[0m         \u001b[0;32mreturn\u001b[0m \u001b[0mret\u001b[0m\u001b[0;34m\u001b[0m\u001b[0;34m\u001b[0m\u001b[0m\n\u001b[1;32m    172\u001b[0m     \u001b[0;32melse\u001b[0m\u001b[0;34m:\u001b[0m\u001b[0;34m\u001b[0m\u001b[0;34m\u001b[0m\u001b[0m\n\u001b[0;32m--> 173\u001b[0;31m         \u001b[0;32mreturn\u001b[0m \u001b[0mnp\u001b[0m\u001b[0;34m.\u001b[0m\u001b[0mdot\u001b[0m\u001b[0;34m(\u001b[0m\u001b[0ma\u001b[0m\u001b[0;34m,\u001b[0m \u001b[0mb\u001b[0m\u001b[0;34m)\u001b[0m\u001b[0;34m\u001b[0m\u001b[0;34m\u001b[0m\u001b[0m\n\u001b[0m\u001b[1;32m    174\u001b[0m \u001b[0;34m\u001b[0m\u001b[0m\n\u001b[1;32m    175\u001b[0m \u001b[0;34m\u001b[0m\u001b[0m\n",
      "\u001b[0;31mValueError\u001b[0m: shapes (3266,15) and (18,) not aligned: 15 (dim 1) != 18 (dim 0)"
     ]
    }
   ],
   "source": [
    "#plot the linear regression residuals to check for bias \n",
    "#y_pred=linear_model.predict(X_test)\n",
    "y_pred2=linear_model2.predict(X_test2)\n",
    "fig, axes = plt.subplots(nrows=1, ncols=2)\n",
    "fig.set_size_inches(16, 8, forward=True)\n",
    "plt.subplot(1, 2, 1)\n",
    "plt.hist(y_test - y_pred, bins=10)\n",
    "plt.subplot(1, 2, 2)\n",
    "plt.hist(y_test2 - y_pred2, bins=10)"
   ]
  },
  {
   "cell_type": "code",
   "execution_count": 11,
   "metadata": {},
   "outputs": [
    {
     "data": {
      "text/html": [
       "<div>\n",
       "<style scoped>\n",
       "    .dataframe tbody tr th:only-of-type {\n",
       "        vertical-align: middle;\n",
       "    }\n",
       "\n",
       "    .dataframe tbody tr th {\n",
       "        vertical-align: top;\n",
       "    }\n",
       "\n",
       "    .dataframe thead th {\n",
       "        text-align: right;\n",
       "    }\n",
       "</style>\n",
       "<table border=\"1\" class=\"dataframe\">\n",
       "  <thead>\n",
       "    <tr style=\"text-align: right;\">\n",
       "      <th></th>\n",
       "      <th>season</th>\n",
       "      <th>holiday</th>\n",
       "      <th>workingday</th>\n",
       "      <th>weather</th>\n",
       "      <th>temp</th>\n",
       "      <th>atemp</th>\n",
       "      <th>humidity</th>\n",
       "      <th>windspeed</th>\n",
       "      <th>casual</th>\n",
       "      <th>registered</th>\n",
       "      <th>count</th>\n",
       "      <th>hourofday</th>\n",
       "    </tr>\n",
       "  </thead>\n",
       "  <tbody>\n",
       "    <tr>\n",
       "      <th>season</th>\n",
       "      <td>1.000000</td>\n",
       "      <td>0.029368</td>\n",
       "      <td>-0.008126</td>\n",
       "      <td>0.008879</td>\n",
       "      <td>0.258689</td>\n",
       "      <td>0.264744</td>\n",
       "      <td>0.190610</td>\n",
       "      <td>-0.147121</td>\n",
       "      <td>0.096758</td>\n",
       "      <td>0.164011</td>\n",
       "      <td>0.163439</td>\n",
       "      <td>-0.006546</td>\n",
       "    </tr>\n",
       "    <tr>\n",
       "      <th>holiday</th>\n",
       "      <td>0.029368</td>\n",
       "      <td>1.000000</td>\n",
       "      <td>-0.250491</td>\n",
       "      <td>-0.007074</td>\n",
       "      <td>0.000295</td>\n",
       "      <td>-0.005215</td>\n",
       "      <td>0.001929</td>\n",
       "      <td>0.008409</td>\n",
       "      <td>0.043799</td>\n",
       "      <td>-0.020956</td>\n",
       "      <td>-0.005393</td>\n",
       "      <td>-0.000354</td>\n",
       "    </tr>\n",
       "    <tr>\n",
       "      <th>workingday</th>\n",
       "      <td>-0.008126</td>\n",
       "      <td>-0.250491</td>\n",
       "      <td>1.000000</td>\n",
       "      <td>0.033772</td>\n",
       "      <td>0.029966</td>\n",
       "      <td>0.024660</td>\n",
       "      <td>-0.010880</td>\n",
       "      <td>0.013373</td>\n",
       "      <td>-0.319111</td>\n",
       "      <td>0.119460</td>\n",
       "      <td>0.011594</td>\n",
       "      <td>0.002780</td>\n",
       "    </tr>\n",
       "    <tr>\n",
       "      <th>weather</th>\n",
       "      <td>0.008879</td>\n",
       "      <td>-0.007074</td>\n",
       "      <td>0.033772</td>\n",
       "      <td>1.000000</td>\n",
       "      <td>-0.055035</td>\n",
       "      <td>-0.055376</td>\n",
       "      <td>0.406244</td>\n",
       "      <td>0.007261</td>\n",
       "      <td>-0.135918</td>\n",
       "      <td>-0.109340</td>\n",
       "      <td>-0.128655</td>\n",
       "      <td>-0.022740</td>\n",
       "    </tr>\n",
       "    <tr>\n",
       "      <th>temp</th>\n",
       "      <td>0.258689</td>\n",
       "      <td>0.000295</td>\n",
       "      <td>0.029966</td>\n",
       "      <td>-0.055035</td>\n",
       "      <td>1.000000</td>\n",
       "      <td>0.984948</td>\n",
       "      <td>-0.064949</td>\n",
       "      <td>-0.017852</td>\n",
       "      <td>0.467097</td>\n",
       "      <td>0.318571</td>\n",
       "      <td>0.394454</td>\n",
       "      <td>0.145430</td>\n",
       "    </tr>\n",
       "    <tr>\n",
       "      <th>atemp</th>\n",
       "      <td>0.264744</td>\n",
       "      <td>-0.005215</td>\n",
       "      <td>0.024660</td>\n",
       "      <td>-0.055376</td>\n",
       "      <td>0.984948</td>\n",
       "      <td>1.000000</td>\n",
       "      <td>-0.043536</td>\n",
       "      <td>-0.057473</td>\n",
       "      <td>0.462067</td>\n",
       "      <td>0.314635</td>\n",
       "      <td>0.389784</td>\n",
       "      <td>0.140343</td>\n",
       "    </tr>\n",
       "    <tr>\n",
       "      <th>humidity</th>\n",
       "      <td>0.190610</td>\n",
       "      <td>0.001929</td>\n",
       "      <td>-0.010880</td>\n",
       "      <td>0.406244</td>\n",
       "      <td>-0.064949</td>\n",
       "      <td>-0.043536</td>\n",
       "      <td>1.000000</td>\n",
       "      <td>-0.318607</td>\n",
       "      <td>-0.348187</td>\n",
       "      <td>-0.265458</td>\n",
       "      <td>-0.317371</td>\n",
       "      <td>-0.278011</td>\n",
       "    </tr>\n",
       "    <tr>\n",
       "      <th>windspeed</th>\n",
       "      <td>-0.147121</td>\n",
       "      <td>0.008409</td>\n",
       "      <td>0.013373</td>\n",
       "      <td>0.007261</td>\n",
       "      <td>-0.017852</td>\n",
       "      <td>-0.057473</td>\n",
       "      <td>-0.318607</td>\n",
       "      <td>1.000000</td>\n",
       "      <td>0.092276</td>\n",
       "      <td>0.091052</td>\n",
       "      <td>0.101369</td>\n",
       "      <td>0.146631</td>\n",
       "    </tr>\n",
       "    <tr>\n",
       "      <th>casual</th>\n",
       "      <td>0.096758</td>\n",
       "      <td>0.043799</td>\n",
       "      <td>-0.319111</td>\n",
       "      <td>-0.135918</td>\n",
       "      <td>0.467097</td>\n",
       "      <td>0.462067</td>\n",
       "      <td>-0.348187</td>\n",
       "      <td>0.092276</td>\n",
       "      <td>1.000000</td>\n",
       "      <td>0.497250</td>\n",
       "      <td>0.690414</td>\n",
       "      <td>0.302045</td>\n",
       "    </tr>\n",
       "    <tr>\n",
       "      <th>registered</th>\n",
       "      <td>0.164011</td>\n",
       "      <td>-0.020956</td>\n",
       "      <td>0.119460</td>\n",
       "      <td>-0.109340</td>\n",
       "      <td>0.318571</td>\n",
       "      <td>0.314635</td>\n",
       "      <td>-0.265458</td>\n",
       "      <td>0.091052</td>\n",
       "      <td>0.497250</td>\n",
       "      <td>1.000000</td>\n",
       "      <td>0.970948</td>\n",
       "      <td>0.380540</td>\n",
       "    </tr>\n",
       "    <tr>\n",
       "      <th>count</th>\n",
       "      <td>0.163439</td>\n",
       "      <td>-0.005393</td>\n",
       "      <td>0.011594</td>\n",
       "      <td>-0.128655</td>\n",
       "      <td>0.394454</td>\n",
       "      <td>0.389784</td>\n",
       "      <td>-0.317371</td>\n",
       "      <td>0.101369</td>\n",
       "      <td>0.690414</td>\n",
       "      <td>0.970948</td>\n",
       "      <td>1.000000</td>\n",
       "      <td>0.400601</td>\n",
       "    </tr>\n",
       "    <tr>\n",
       "      <th>hourofday</th>\n",
       "      <td>-0.006546</td>\n",
       "      <td>-0.000354</td>\n",
       "      <td>0.002780</td>\n",
       "      <td>-0.022740</td>\n",
       "      <td>0.145430</td>\n",
       "      <td>0.140343</td>\n",
       "      <td>-0.278011</td>\n",
       "      <td>0.146631</td>\n",
       "      <td>0.302045</td>\n",
       "      <td>0.380540</td>\n",
       "      <td>0.400601</td>\n",
       "      <td>1.000000</td>\n",
       "    </tr>\n",
       "  </tbody>\n",
       "</table>\n",
       "</div>"
      ],
      "text/plain": [
       "              season   holiday  workingday   weather      temp     atemp  \\\n",
       "season      1.000000  0.029368   -0.008126  0.008879  0.258689  0.264744   \n",
       "holiday     0.029368  1.000000   -0.250491 -0.007074  0.000295 -0.005215   \n",
       "workingday -0.008126 -0.250491    1.000000  0.033772  0.029966  0.024660   \n",
       "weather     0.008879 -0.007074    0.033772  1.000000 -0.055035 -0.055376   \n",
       "temp        0.258689  0.000295    0.029966 -0.055035  1.000000  0.984948   \n",
       "atemp       0.264744 -0.005215    0.024660 -0.055376  0.984948  1.000000   \n",
       "humidity    0.190610  0.001929   -0.010880  0.406244 -0.064949 -0.043536   \n",
       "windspeed  -0.147121  0.008409    0.013373  0.007261 -0.017852 -0.057473   \n",
       "casual      0.096758  0.043799   -0.319111 -0.135918  0.467097  0.462067   \n",
       "registered  0.164011 -0.020956    0.119460 -0.109340  0.318571  0.314635   \n",
       "count       0.163439 -0.005393    0.011594 -0.128655  0.394454  0.389784   \n",
       "hourofday  -0.006546 -0.000354    0.002780 -0.022740  0.145430  0.140343   \n",
       "\n",
       "            humidity  windspeed    casual  registered     count  hourofday  \n",
       "season      0.190610  -0.147121  0.096758    0.164011  0.163439  -0.006546  \n",
       "holiday     0.001929   0.008409  0.043799   -0.020956 -0.005393  -0.000354  \n",
       "workingday -0.010880   0.013373 -0.319111    0.119460  0.011594   0.002780  \n",
       "weather     0.406244   0.007261 -0.135918   -0.109340 -0.128655  -0.022740  \n",
       "temp       -0.064949  -0.017852  0.467097    0.318571  0.394454   0.145430  \n",
       "atemp      -0.043536  -0.057473  0.462067    0.314635  0.389784   0.140343  \n",
       "humidity    1.000000  -0.318607 -0.348187   -0.265458 -0.317371  -0.278011  \n",
       "windspeed  -0.318607   1.000000  0.092276    0.091052  0.101369   0.146631  \n",
       "casual     -0.348187   0.092276  1.000000    0.497250  0.690414   0.302045  \n",
       "registered -0.265458   0.091052  0.497250    1.000000  0.970948   0.380540  \n",
       "count      -0.317371   0.101369  0.690414    0.970948  1.000000   0.400601  \n",
       "hourofday  -0.278011   0.146631  0.302045    0.380540  0.400601   1.000000  "
      ]
     },
     "execution_count": 11,
     "metadata": {},
     "output_type": "execute_result"
    }
   ],
   "source": [
    "train_df.corr()"
   ]
  },
  {
   "cell_type": "markdown",
   "metadata": {},
   "source": [
    "<a id=\"corr\"></a>\n",
    "Windspeed has a relatively low correlation to the count compared to the humidity, and temperature fields.  Next steps could be to revise the RobustScaling used for windspeed to a usual scale of 0-1 based on the mean, then see how the models score.\n"
   ]
  },
  {
   "cell_type": "code",
   "execution_count": 103,
   "metadata": {},
   "outputs": [
    {
     "name": "stdout",
     "output_type": "stream",
     "text": [
      "season\n",
      "p=0.00000\n",
      "holiday\n",
      "p=0.89782\n",
      "workingday\n",
      "p=0.10982\n",
      "weather\n",
      "p=0.00000\n",
      "temp\n",
      "p=0.00000\n",
      "atemp\n",
      "p=0.00000\n",
      "humidity\n",
      "p=0.00000\n",
      "windspeed\n",
      "p=0.00000\n",
      "hourofday\n",
      "p=0.00000\n"
     ]
    }
   ],
   "source": [
    "\n",
    "# calculate the p-values of beta coefficients\n",
    "#Linear model for testing the individual effect of each of many regressors.\n",
    "fscores, pvalues=f_regression(X, y_trans)\n",
    "for p,c in zip(pvalues,X.columns):\n",
    "    print(c)\n",
    "                                       \n",
    "    print(\"p=%.5f\" % (p))\n",
    "    \n",
    "# #thanks to stack overflow for this code    \n",
    "# params = np.append(linear_model2.intercept_,linear_model2.coef_)\n",
    "# predictions = linear_model2.predict(X_train2)\n",
    "\n",
    "# newX = pd.DataFrame({\"Constant\":np.ones(len(X_train2))}).join(pd.DataFrame(X_train2))\n",
    "# MSE = (sum((y_train2-predictions)**2))/(len(newX)-len(newX.columns))\n",
    "\n",
    "\n",
    "\n",
    "# var_b = MSE*(np.linalg.inv(np.dot(newX.T,newX)).diagonal())\n",
    "# sd_b = np.sqrt(var_b)\n",
    "# ts_b = params/ sd_b\n",
    "\n",
    "# import scipy as sp\n",
    "\n",
    "# p_values =[2*(1-sp.stats.t.cdf(np.abs(i),(len(newX)-1))) for i in ts_b]\n",
    "\n",
    "# sd_b = np.round(sd_b,3)\n",
    "# ts_b = np.round(ts_b,3)\n",
    "# p_values = np.round(p_values,3)\n",
    "# params = np.round(params,4)\n",
    "\n",
    "# myDF3 = pd.DataFrame()\n",
    "# myDF3[\"Coefficients\"],myDF3[\"Standard Errors\"],myDF3[\"t values\"],myDF3[\"Probabilites\"] = [params,sd_b,ts_b,p_values]\n",
    "# print(myDF3)\n"
   ]
  }
 ],
 "metadata": {
  "kernelspec": {
   "display_name": "Python 3",
   "language": "python",
   "name": "python3"
  },
  "language_info": {
   "codemirror_mode": {
    "name": "ipython",
    "version": 3
   },
   "file_extension": ".py",
   "mimetype": "text/x-python",
   "name": "python",
   "nbconvert_exporter": "python",
   "pygments_lexer": "ipython3",
   "version": "3.6.8"
  }
 },
 "nbformat": 4,
 "nbformat_minor": 2
}
