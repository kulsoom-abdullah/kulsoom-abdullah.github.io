{
 "cells": [
  {
   "cell_type": "markdown",
   "metadata": {
    "toc": true
   },
   "source": [
    "<h1>Table of Contents<span class=\"tocSkip\"></span></h1>\n",
    "<div class=\"toc\"><ul class=\"toc-item\"><li><span><a href=\"#Recipe-Cuisine-Part-1---Binary-Classification\" data-toc-modified-id=\"Recipe-Cuisine-Part-1---Binary-Classification-1\"><span class=\"toc-item-num\">1&nbsp;&nbsp;</span>Recipe Cuisine Part 1 - Binary Classification</a></span><ul class=\"toc-item\"><li><span><a href=\"#Introduction\" data-toc-modified-id=\"Introduction-1.1\"><span class=\"toc-item-num\">1.1&nbsp;&nbsp;</span>Introduction</a></span></li><li><span><a href=\"#Why-a-Binary-model-first\" data-toc-modified-id=\"Why-a-Binary-model-first-1.2\"><span class=\"toc-item-num\">1.2&nbsp;&nbsp;</span>Why a Binary model first</a></span></li><li><span><a href=\"#Italian-and-Indian---polar-opposites?\" data-toc-modified-id=\"Italian-and-Indian---polar-opposites?-1.3\"><span class=\"toc-item-num\">1.3&nbsp;&nbsp;</span>Italian and Indian - polar opposites?</a></span></li><li><span><a href=\"#Words-to-Remove\" data-toc-modified-id=\"Words-to-Remove-1.4\"><span class=\"toc-item-num\">1.4&nbsp;&nbsp;</span>Words to Remove</a></span><ul class=\"toc-item\"><li><span><a href=\"#Parsing-rules-for-ingredients\" data-toc-modified-id=\"Parsing-rules-for-ingredients-1.4.1\"><span class=\"toc-item-num\">1.4.1&nbsp;&nbsp;</span>Parsing rules for ingredients</a></span></li><li><span><a href=\"#Easy-method-of-removing-&quot;useless&quot;-words\" data-toc-modified-id=\"Easy-method-of-removing-&quot;useless&quot;-words-1.4.2\"><span class=\"toc-item-num\">1.4.2&nbsp;&nbsp;</span>Easy method of removing \"useless\" words</a></span></li></ul></li><li><span><a href=\"#Converting-recipes-to-a-&quot;BagofWords&quot;\" data-toc-modified-id=\"Converting-recipes-to-a-&quot;BagofWords&quot;-1.5\"><span class=\"toc-item-num\">1.5&nbsp;&nbsp;</span>Converting recipes to a \"BagofWords\"</a></span></li><li><span><a href=\"#Visualizing-the-class-balance\" data-toc-modified-id=\"Visualizing-the-class-balance-1.6\"><span class=\"toc-item-num\">1.6&nbsp;&nbsp;</span>Visualizing the class balance</a></span></li><li><span><a href=\"#Naive-Bayes\" data-toc-modified-id=\"Naive-Bayes-1.7\"><span class=\"toc-item-num\">1.7&nbsp;&nbsp;</span>Naive Bayes</a></span></li><li><span><a href=\"#Results\" data-toc-modified-id=\"Results-1.8\"><span class=\"toc-item-num\">1.8&nbsp;&nbsp;</span>Results</a></span></li><li><span><a href=\"#Using-a-pipeline-to-Kfold-Cross-validation\" data-toc-modified-id=\"Using-a-pipeline-to-Kfold-Cross-validation-1.9\"><span class=\"toc-item-num\">1.9&nbsp;&nbsp;</span>Using a pipeline to Kfold Cross validation</a></span></li><li><span><a href=\"#Appendix\" data-toc-modified-id=\"Appendix-1.10\"><span class=\"toc-item-num\">1.10&nbsp;&nbsp;</span>Appendix</a></span></li></ul></li></ul></div>"
   ]
  },
  {
   "cell_type": "markdown",
   "metadata": {},
   "source": [
    "# Recipe Cuisine Part 1 - Binary Classification\n",
    "\n",
    "## Introduction\n",
    "This is part 1 of 2 notebooks that details the text processing, model training, evaluation and comparison of a recipe classifier.  The goal was to come up with a final model to deploy in AWS. \n",
    "\n",
    "I used AWS lambda functions to scrape for the recipes - this work and the pipeline in AWS is explained outside of these notebooks. (link).  I then exported that data out of AWS, to CSV files, which I use to work with locally.\n",
    "\n",
    "## Why a Binary model first\n",
    "To get started and find out if it was worth moving forward with this project - to use lambda functions to scrape recipes from a website, come up with a multicuisine classifier, deploy the model, and schedule a scraper \n",
    "## Italian and Indian - polar opposites?\n",
    "First attempt will be using indian and italian recipes, come up with rules to preprocess the ingredient list, and try out a simple BagofWords classifcation model. I start with Italian and Indian, as they seem to be contrasting cuisines for an easier problem, and the amount of recipes for these cuisines available were the highest.\n",
    "\n",
    "I chose [AllRecipes.com](https://www.allrecipes.com) since it is popular, has a decent amount of contributions for a variety of cuisines, and has [moderation](https://www.wikihow.com/Submit-a-New-Recipe-to-Allrecipes) before the recipe is submitted. "
   ]
  },
  {
   "cell_type": "code",
   "execution_count": 53,
   "metadata": {},
   "outputs": [],
   "source": [
    "import pandas as pd\n",
    "import numpy as np\n",
    "import ast\n",
    "import string\n",
    "import nltk\n",
    "import matplotlib.pyplot as plt\n",
    "plt.style.use('ggplot')\n",
    "from nltk.stem import WordNetLemmatizer\n",
    "from nltk.tokenize import sent_tokenize, word_tokenize\n",
    "from nltk.corpus import wordnet\n",
    "from sklearn.model_selection import train_test_split, cross_validate,StratifiedKFold\n",
    "from sklearn.pipeline import Pipeline"
   ]
  },
  {
   "cell_type": "markdown",
   "metadata": {},
   "source": [
    "## Words to Remove\n",
    "Weigths and measures are the type of words that will not add value to the model (unless I was considering quantity as a feature, not just the ingredient word). \n",
    "I lemmatize, and do not stem words, because I want real word ingredients.\n"
   ]
  },
  {
   "cell_type": "code",
   "execution_count": 54,
   "metadata": {},
   "outputs": [],
   "source": [
    "#Source for list below\n",
    "#https://en.wikipedia.org/wiki/Cooking_weights_and_measures\n",
    "#https://thebakingpan.com/ingredient-weights-and-measures/\n",
    "measures=['litrbes','liter','millilitres','mL','grams','g', 'kg','teaspoon','tsp', 'tablespoon','tbsp','fluid', 'ounce','oz','fl.oz', 'cup','pint','pt','quart','qt','gallon','gal','smidgen','drop','pinch','dash','scruple','dessertspoon','teacup','cup','c','pottle','gill','dram','wineglass','coffeespoon','pound','lb','tbsp','plus','firmly', 'packed','lightly','level','even','rounded','heaping','heaped','sifted','bushel','peck','stick','chopped','sliced','halves', 'shredded','slivered','sliced','whole','paste','whole',' fresh', 'peeled', 'diced','mashed','dried','frozen','fresh','peeled','candied','no', 'pulp','crystallized','canned','crushed','minced','julienned','clove','head', 'small','large','medium']\n",
    "lemmatizer = WordNetLemmatizer()\n",
    "\n",
    "measures = [lemmatizer.lemmatize(m) for m in measures]\n"
   ]
  },
  {
   "cell_type": "markdown",
   "metadata": {},
   "source": [
    "### Parsing rules for ingredients\n",
    "I implement rules in the function below. It removes any punctuation, numbers, converts the text to lowercase, lemmatizes the words, and finally, joins the parsed ingredients as a list."
   ]
  },
  {
   "cell_type": "code",
   "execution_count": 55,
   "metadata": {
    "code_folding": []
   },
   "outputs": [],
   "source": [
    "recipes = []\n",
    "cuisine_labels = []\n",
    "ingredients = []\n",
    "bi_ingredients = []\n",
    "\n",
    "\n",
    "def parse_recipes(cuisine, recipe_series):\n",
    "\n",
    "    for recipe in recipe_series.iteritems():\n",
    "        ingr_set=ast.literal_eval(recipe[1])\n",
    "        #print(ingr_set)\n",
    "        ingr_list=[]\n",
    "        for i in ingr_set:\n",
    "\n",
    "            i.translate(str.maketrans('', '', string.punctuation))\n",
    "            words=i.split()\n",
    "            words = [''.join(c for c in word if c not in string.punctuation) for word in words]\n",
    "            words = [word for word in words if word.isalpha()]\n",
    "            words = [word.lower() for word in words]\n",
    "            words = [lemmatizer.lemmatize(word) for word in words]\n",
    "            words = [word for word in words if word not in measures]\n",
    "            #print(words)\n",
    "            #recipes.append(words)\n",
    "            ingr_list.append(' '.join(words))\n",
    "            \n",
    "            \n",
    "            bigrm = list(nltk.bigrams(words))\n",
    "            #print(bigrm)\n",
    "            bi_ingredients.append(bigrm)\n",
    "            for word in words:\n",
    "                ingredients.append(word)\n",
    "        recipes.append(ingr_list)\n",
    "        cuisine_labels.append(cuisine)\n"
   ]
  },
  {
   "cell_type": "code",
   "execution_count": 56,
   "metadata": {},
   "outputs": [],
   "source": [
    "#load the recipes from the DynamoDB CSV exports\n",
    "indian=pd.read_csv(\"recipes_indian.csv\")\n",
    "italian=pd.read_csv(\"recipes_italian.csv\")\n",
    "\n",
    "#parse them\n",
    "parse_recipes('indian', indian['ingredients'])\n",
    "parse_recipes('italian', italian['ingredients'])"
   ]
  },
  {
   "cell_type": "markdown",
   "metadata": {},
   "source": [
    "### Easy method of removing \"useless\" words\n",
    "There are advanced NLP techniques to recognize the entity of a word that would calculate the probality that a word is the ingredient, while the rest are measures, textures, actions and other types of words that surround the ingredient word.\n",
    "A list of ingredients are not typical language sentences, and this method is effective as the results will show."
   ]
  },
  {
   "cell_type": "code",
   "execution_count": 57,
   "metadata": {},
   "outputs": [
    {
     "name": "stdout",
     "output_type": "stream",
     "text": [
      "Total ingredients 90677, unique ingredients=1894 total recipes 3307\n",
      "pepper;2762\n",
      "ground;2591\n",
      "cheese;2259\n",
      "salt;2229\n",
      "oil;2193\n",
      "to;2134\n",
      "taste;2073\n",
      "and;1853\n",
      "garlic;1836\n",
      "olive;1711\n",
      "tomato;1636\n",
      "onion;1546\n",
      "or;1387\n",
      "black;1362\n",
      "can;1320\n"
     ]
    }
   ],
   "source": [
    "#show the most common ingredients collected, create a list of words to remove to add to the above function.\n",
    "\n",
    "print(\"Total ingredients {0}, unique ingredients={1} total recipes {2}\".format(len(ingredients), len(set(ingredients)),len(recipes)))\n",
    "fdist = nltk.FreqDist(ingredients)\n",
    "for word, frequency in fdist.most_common(15):\n",
    "    print(u'{};{}'.format(word, frequency))\n",
    "    "
   ]
  },
  {
   "cell_type": "code",
   "execution_count": 58,
   "metadata": {},
   "outputs": [],
   "source": [
    "#most frequent word tokens collected that I am removing by eyeball inspection first pass\n",
    "#from most frequent so far\n",
    "common_remove=['ground','to','taste', 'and', 'or', 'powder','black','white','red','green','yellow', 'can', 'seed', 'into', 'cut', 'grated', 'leaf','package','finely','divided','a','piece','optional','inch','needed','more','drained','for','flake','juice','dry','breast','extract','yellow','thinly','boneless','skinless','cubed','bell','bunch','cube','slice','pod','beaten','seeded','broth','uncooked','root','plain','baking','heavy','halved','crumbled','sweet','with','hot','confectioner','room','temperature','trimmed','allpurpose','sauce','crumb','deveined','bulk','seasoning','jar','food','sundried','italianstyle','if','bag','mix','in','each','roll','instant','double',\n",
    "'such','extravirgin','frying','thawed','whipping','stock','rinsed','mild','sprig','brown','freshly','toasted','link','boiling','cooked','basmati','unsalted','container','split',\n",
    "'cooking','thin','lengthwise','warm','softened','thick','quartered','juiced','pitted','chunk','melted','cold','coloring','puree','cored','stewed','gingergarlic','floret','coarsely','the','clarified','blanched','zested','sweetened','powdered','longgrain','garnish','indian','dressing','soup','at','active','french','lean','chip','sour','condensed','long','smoked','ripe','skinned','fillet','from','stem','flaked','removed','zest','stalk','unsweetened','baby','cover','crust', 'extra', 'prepared', 'blend', 'of', 'ring']\n",
    "common_remove = [lemmatizer.lemmatize(c) for c in common_remove]"
   ]
  },
  {
   "cell_type": "code",
   "execution_count": 59,
   "metadata": {},
   "outputs": [
    {
     "name": "stdout",
     "output_type": "stream",
     "text": [
      "Total ingredients 50293, unique ingredients=1741 total recipes 3307\n",
      "pepper;2762\n",
      "cheese;2259\n",
      "salt;2229\n",
      "oil;2193\n",
      "garlic;1836\n",
      "olive;1711\n",
      "tomato;1636\n",
      "onion;1546\n",
      "water;952\n",
      "sugar;859\n",
      "parmesan;820\n",
      "egg;793\n",
      "butter;756\n",
      "chicken;752\n",
      "basil;728\n"
     ]
    }
   ],
   "source": [
    "# repeat parse recipes with common_remove added to measures list, then I can reuse the function\n",
    "\n",
    "recipes = []\n",
    "cuisine_labels = []\n",
    "ingredients = []\n",
    "bi_ingredients = []\n",
    "measures.extend(common_remove)\n",
    "\n",
    "#parse them second round\n",
    "parse_recipes('indian', indian['ingredients'])\n",
    "parse_recipes('italian', italian['ingredients'])\n",
    "\n",
    "print(\"Total ingredients {0}, unique ingredients={1} total recipes {2}\".format(len(ingredients), len(set(ingredients)),len(recipes)))\n",
    "fdist = nltk.FreqDist(ingredients)\n",
    "for word, frequency in fdist.most_common(15):\n",
    "    print(u'{};{}'.format(word, frequency))\n",
    "    \n",
    "#much improvement in the ingredient names, and reduction of potential features\n",
    "# fdist = nltk.FreqDist(bi_ingredients)\n",
    "# for word, frequency in fdist.most_common(10):\n",
    "#     print(u'{};{}'.format(word, frequency))\n",
    "#print(bi_ingredients)    "
   ]
  },
  {
   "cell_type": "markdown",
   "metadata": {},
   "source": [
    "## Converting recipes to a \"BagofWords\"\n",
    "The recipes are changed from a list of lists to a list of strings to make \"recipe documents\".  The `CountVectorizer` is used to create a matrix of the words from the training set.  Both the training and testing data are transofrmed into the BoW or _document-term matrix_ which will be input to the model."
   ]
  },
  {
   "cell_type": "code",
   "execution_count": 60,
   "metadata": {},
   "outputs": [
    {
     "data": {
      "text/plain": [
       "1558"
      ]
     },
     "execution_count": 60,
     "metadata": {},
     "output_type": "execute_result"
    }
   ],
   "source": [
    "#bagofwords or 'document-term matrix'\n",
    "# recipes[0]\n",
    "# cuisine_labels[0]\n",
    "\n",
    "#change the list of lists, to list of strings (docs)\n",
    "recipe_strings=[]\n",
    "for r in recipes:\n",
    "    recipe_strings.append(' '.join(r))\n",
    "\n",
    "recipe_strings[0]\n",
    "    # recipes=[''.join(x) for x in recipes]\n",
    "# print(recipes[:4])\n",
    "X_train, X_test, y_train, y_test = train_test_split(recipe_strings, cuisine_labels, test_size=0.25, stratify=cuisine_labels)\n",
    "\n",
    "from sklearn.feature_extraction.text import CountVectorizer\n",
    "\n",
    "#print(X_train)\n",
    "vectorizer = CountVectorizer()\n",
    "\n",
    "matrix_train=vectorizer.fit_transform(X_train)\n",
    "\n",
    "matrix_test=vectorizer.transform(X_test)\n",
    "\n",
    "#print(vectorizer.vocabulary_)\n",
    "\n",
    "\n",
    "len(vectorizer.get_feature_names())\n",
    "# for r in recipe_strings:\n",
    "#         words = word_extraction(r)\n",
    "#         bag_vector = numpy.zeros(len(vocab))\n",
    "#         for w in words:\n",
    "#             for i,word in enumerate(vocab):\n",
    "#                 if word == w: \n",
    "#                     bag_vector[i] += 1\n",
    "                    \n",
    "#         print(\"{0}\\n{1}\\n\".format(sentence,numpy.array(bag_vector)))\n",
    "        \n",
    "        "
   ]
  },
  {
   "cell_type": "markdown",
   "metadata": {},
   "source": [
    "## Visualizing the class balance\n",
    "There are over 3 times more Italian than Indian recipes.  Is it enough data for an ML model to learn what is Indian?  Will the ML do better than 76% (a Dummy classifier where every recipe is classified as Italian)  "
   ]
  },
  {
   "cell_type": "code",
   "execution_count": 61,
   "metadata": {},
   "outputs": [
    {
     "name": "stdout",
     "output_type": "stream",
     "text": [
      "[787, 2520]\n"
     ]
    },
    {
     "data": {
      "text/plain": [
       "Text(0.5, 1.0, 'Cuisine (Class) Counts')"
      ]
     },
     "execution_count": 61,
     "metadata": {},
     "output_type": "execute_result"
    },
    {
     "data": {
      "image/png": "[encoded data removed]",
      "text/plain": [
       "<Figure size 432x288 with 1 Axes>"
      ]
     },
     "metadata": {},
     "output_type": "display_data"
    }
   ],
   "source": [
    "#plot the class counts as a bar chart\n",
    "from collections import Counter\n",
    "\n",
    "cuisine_counts = Counter(cuisine_labels)\n",
    "print(list(cuisine_counts.values()))\n",
    "\n",
    "plt.hist(list(cuisine_counts.keys()), weights=list(cuisine_counts.values()))\n",
    "plt.ylabel('Counts')\n",
    "plt.title('Cuisine (Class) Counts')"
   ]
  },
  {
   "cell_type": "markdown",
   "metadata": {},
   "source": [
    "## Naive Bayes\n",
    "From the book. It is a simple model and fast."
   ]
  },
  {
   "cell_type": "code",
   "execution_count": 62,
   "metadata": {},
   "outputs": [
    {
     "name": "stdout",
     "output_type": "stream",
     "text": [
      "accuracy 0.9842805320435308\n",
      "              precision    recall  f1-score   support\n",
      "\n",
      "      indian       0.96      0.97      0.97       197\n",
      "     italian       0.99      0.99      0.99       630\n",
      "\n",
      "    accuracy                           0.98       827\n",
      "   macro avg       0.98      0.98      0.98       827\n",
      "weighted avg       0.98      0.98      0.98       827\n",
      "\n",
      "[[191   6]\n",
      " [  7 623]]\n",
      "results of using the model on the training data:\n",
      "accuracy 0.9838709677419355\n",
      "              precision    recall  f1-score   support\n",
      "\n",
      "      indian       0.96      0.97      0.97       590\n",
      "     italian       0.99      0.99      0.99      1890\n",
      "\n",
      "    accuracy                           0.98      2480\n",
      "   macro avg       0.98      0.98      0.98      2480\n",
      "weighted avg       0.98      0.98      0.98      2480\n",
      "\n",
      "[[ 571   19]\n",
      " [  21 1869]]\n",
      "The top 50 most frequent words from the Italian class are :\n",
      "\n",
      "['cheese' 'pepper' 'oil' 'salt' 'olive' 'garlic' 'tomato' 'onion'\n",
      " 'parmesan' 'egg' 'basil' 'sugar' 'italian' 'chicken' 'water' 'butter'\n",
      " 'flour' 'pasta' 'mozzarella' 'oregano' 'parsley' 'wine' 'cream'\n",
      " 'mushroom' 'bread' 'beef' 'lemon' 'milk' 'sausage' 'vegetable' 'ricotta'\n",
      " 'spaghetti' 'vinegar' 'spinach' 'carrot' 'bean' 'vanilla' 'zucchini'\n",
      " 'celery' 'thyme' 'rosemary' 'noodle' 'pork' 'almond' 'balsamic' 'lasagna'\n",
      " 'rice' 'orange' 'yeast' 'nut']\n",
      "\n",
      "The top 50 most frequent words from the Indian class are :\n",
      "\n",
      "['pepper' 'salt' 'oil' 'onion' 'water' 'cumin' 'garlic' 'ginger'\n",
      " 'vegetable' 'turmeric' 'tomato' 'chile' 'curry' 'cilantro' 'coriander'\n",
      " 'masala' 'chicken' 'garam' 'milk' 'sugar' 'butter' 'cardamom' 'potato'\n",
      " 'yogurt' 'cinnamon' 'cayenne' 'olive' 'coconut' 'flour' 'lemon' 'mustard'\n",
      " 'chili' 'rice' 'pea' 'cream' 'carrot' 'lentil' 'bean' 'ghee' 'paprika'\n",
      " 'dal' 'bay' 'chickpea' 'asafoetida' 'lime' 'raisin' 'almond' 'peppercorn'\n",
      " 'cashew' 'vinegar']\n",
      "\n",
      "**misclassified in the test set**:\n",
      "\n",
      "italian classified as indian:\n",
      "milk butter almond sugar dusting raisin cognac tea biscuit broken cocoa\n",
      "\n",
      "italian classified as indian:\n",
      "allspice coriander nutmeg cocoa sugar dusting almond pineapple ginger date pine nut walnut sugar honey\n",
      "\n",
      "indian classified as italian:\n",
      "salt onion olive oil curry maharajastyle balsamic vinegar sugar garlic pressed\n",
      "\n",
      "italian classified as indian:\n",
      "butter sugar orange cinnamon ginger sugar allspice  molasses pepper wheat flour  egg\n",
      "\n",
      "italian classified as indian:\n",
      "flour salt milk  vanilla bean scraped butter sugar butter sugar egg granny smith apple unseasoned bread\n",
      "\n",
      "italian classified as indian:\n",
      "shortening sugar  lemon milk cardamom salt egg sesame flour\n",
      "\n",
      "indian classified as italian:\n",
      "italian bread beef oregano feta cheese egg caper garlic kalamata olive\n",
      "\n",
      "indian classified as italian:\n",
      "cauliflower onion chicken chicken bouillon granule curry milk broccoli flour cheddar cheese salt pepper\n",
      "\n",
      "indian classified as italian:\n",
      "sugar nonfat milk water sugar milk selfrising flour butter syrup\n",
      "\n",
      "italian classified as indian:\n",
      "grain rice saffron thread butter parsley onion water \n",
      "\n",
      "\n",
      "**misclassified in the train set:**\n",
      "\n",
      "italian classified as indian:\n",
      "tomato onion water tomato cayenne pepper salt cod olive oil potato\n",
      "\n",
      "italian classified as indian:\n",
      "unflavored gelatin coconut milk cream coconut vanilla coconut flour sugar\n",
      "\n",
      "indian classified as italian:\n",
      "yeast water egg butter sugar garlic salt milk bread flour\n",
      "\n",
      "indian classified as italian:\n",
      "onion curry olive oil evaporated skim milk fat free lowsodium chicken scallop wholewheat angel hair pasta lowsodium tomato\n",
      "\n",
      "italian classified as indian:\n",
      "citric acid raw milk salt liquid rennet cool water\n",
      "\n"
     ]
    }
   ],
   "source": [
    "cuisines=['indian', 'italian']\n",
    "losses = []\n",
    "auc = []\n",
    "\n",
    "from sklearn.naive_bayes import MultinomialNB\n",
    "\n",
    "nb_clf = MultinomialNB()\n",
    "nb_clf.fit(matrix_train, y_train)\n",
    "\n",
    "from sklearn.metrics import classification_report, accuracy_score, confusion_matrix\n",
    "y_pred = nb_clf.predict(matrix_test)\n",
    "\n",
    "print('accuracy %s' % accuracy_score(y_pred, y_test))\n",
    "print(classification_report(y_test, y_pred,target_names=cuisines))\n",
    "print(confusion_matrix(y_test, y_pred))\n",
    "\n",
    " \n",
    "\n",
    "print(\"results of using the model on the training data:\")\n",
    "y_pred_train = nb_clf.predict(matrix_train)\n",
    "print('accuracy %s' % accuracy_score(y_pred_train, y_train))\n",
    "print(classification_report(y_train, y_pred_train,target_names=cuisines))\n",
    "print(confusion_matrix(y_train, y_pred_train))\n",
    "\n",
    "neg_class_prob_sorted = (-nb_clf.feature_log_prob_[0, :]).argsort()     #Note : Putting a - sign indicates the indexes will be sorted in descending order.\n",
    "pos_class_prob_sorted = (-nb_clf.feature_log_prob_[1, :]).argsort()\n",
    "\n",
    "neg_class_features = np.take(vectorizer.get_feature_names(), neg_class_prob_sorted[:50])\n",
    "pos_class_features = np.take(vectorizer.get_feature_names(), pos_class_prob_sorted[:50])\n",
    "\n",
    "print(\"The top 50 most frequent words from the Italian class are :\\n\")\n",
    "print(pos_class_features)\n",
    "\n",
    "print(\"\\nThe top 50 most frequent words from the Indian class are :\\n\")\n",
    "print(neg_class_features)\n",
    "\n",
    "#What was misclassified in the test set?\n",
    "index = 0\n",
    "misclassifiedIndexes = []\n",
    "for label, predict in zip(y_test, y_pred):\n",
    "    if label != predict: \n",
    "        misclassifiedIndexes.append(index)\n",
    "    index +=1\n",
    "print(\"\\n**misclassified in the test set**:\\n\")\n",
    "for m in misclassifiedIndexes[:10]:\n",
    "    print(\"{0} classified as {1}:\\n{2}\\n\".format(y_test[m],y_pred[m],X_test[m]))\n",
    "#print(y_test[:5], y_pred[:5])\n",
    "\n",
    "index = 0\n",
    "misclassifiedIndexes = []\n",
    "for label, predict in zip(y_train, y_pred_train):\n",
    "    if label != predict: \n",
    "        misclassifiedIndexes.append(index)\n",
    "    index +=1\n",
    "print(\"\\n**misclassified in the train set:**\\n\")\n",
    "for m in misclassifiedIndexes[:5]:\n",
    "    print(\"{0} classified as {1}:\\n{2}\\n\".format(y_train[m],y_pred_train[m],X_train[m]))\n",
    "    "
   ]
  },
  {
   "cell_type": "markdown",
   "metadata": {},
   "source": [
    "## Results\n",
    "\n",
    "Pretty good! Almost \"perfect\" for both cuisines on the training and testing sets. The information above also helps me think of ideas for the multiclass problem, such as bigrams to help deal with overlap of ingredients in cuisine."
   ]
  },
  {
   "cell_type": "markdown",
   "metadata": {},
   "source": [
    "## Using a pipeline to Kfold Cross validation\n",
    "Results are consistent for each fold, for both training and testing"
   ]
  },
  {
   "cell_type": "code",
   "execution_count": 63,
   "metadata": {},
   "outputs": [
    {
     "data": {
      "text/plain": [
       "{'fit_time': array([0.03628492, 0.03484702, 0.03571463]),\n",
       " 'score_time': array([0.01954198, 0.01862383, 0.0195241 ]),\n",
       " 'test_score': array([0.98459752, 0.98551861, 0.98093119])}"
      ]
     },
     "execution_count": 63,
     "metadata": {},
     "output_type": "execute_result"
    }
   ],
   "source": [
    "clf_pipe = Pipeline([('vect', CountVectorizer()), ('mnb', MultinomialNB())])\n",
    "skf=StratifiedKFold(n_splits=3)\n",
    "\n",
    "cross_validate(clf_pipe, recipe_strings, cuisine_labels, scoring='f1_weighted', cv=skf )"
   ]
  },
  {
   "cell_type": "markdown",
   "metadata": {},
   "source": [
    "## Appendix\n",
    "\n",
    "Demonstration using the \"From the Deep Learning with Python\" book.  Deep Learning is not worth the cost and won't get any better than the simple model, except for the possible score of 100% on both train and test if I kept the training going ...\n",
    "\n",
    "The results below show after 7/8 epochs using the basic Dense model using Keras with two layers, the gains increase at a much slower rate."
   ]
  },
  {
   "cell_type": "code",
   "execution_count": 64,
   "metadata": {},
   "outputs": [],
   "source": [
    "from keras import models\n",
    "from keras import layers\n",
    "model = models.Sequential()\n",
    "#.9734 for one layer (16)\n",
    "model.add(layers.Dense(64, activation='relu', input_shape=(1563,)))\n",
    "# two layers .9758 (16)\n",
    "model.add(layers.Dense(64, activation='relu'))\n",
    "#trying a third .977 (16)\n",
    "#model.add(layers.Dense(64, activation='relu'))\n",
    "model.add(layers.Dense(1, activation='sigmoid'))\n",
    "\n",
    "model.compile(optimizer='rmsprop',\n",
    "                      loss='binary_crossentropy',\n",
    "                      metrics=['accuracy'])"
   ]
  },
  {
   "cell_type": "code",
   "execution_count": 65,
   "metadata": {},
   "outputs": [],
   "source": [
    "from keras.preprocessing.text import Tokenizer\n",
    "from sklearn.preprocessing import LabelBinarizer\n",
    "from keras import utils\n",
    "\n",
    "max_words = 1563\n",
    "tokenizer = Tokenizer(num_words=max_words, char_level=False)\n",
    "\n",
    "tokenizer.fit_on_texts(X_train)\n",
    "\n",
    "X_train_t = tokenizer.texts_to_matrix(X_train)\n",
    "X_test_t = tokenizer.texts_to_matrix(X_test)\n",
    "vocab_size = len(tokenizer.word_index) + 1  # Adding 1 because of reserved 0 index\n",
    "\n",
    "encoder = LabelBinarizer()\n",
    "encoder.fit(y_train)\n",
    "y_train_t = encoder.transform(y_train)\n",
    "y_test_t = encoder.transform(y_test)\n",
    "\n"
   ]
  },
  {
   "cell_type": "code",
   "execution_count": 66,
   "metadata": {},
   "outputs": [
    {
     "name": "stdout",
     "output_type": "stream",
     "text": [
      "Train on 2480 samples, validate on 827 samples\n",
      "Epoch 1/20\n",
      "2480/2480 [==============================] - 1s 529us/step - loss: 0.6167 - acc: 0.7097 - val_loss: 0.5032 - val_acc: 0.7969\n",
      "Epoch 2/20\n",
      "2480/2480 [==============================] - 1s 211us/step - loss: 0.4363 - acc: 0.8476 - val_loss: 0.3513 - val_acc: 0.9093\n",
      "Epoch 3/20\n",
      "2480/2480 [==============================] - 0s 193us/step - loss: 0.2968 - acc: 0.9359 - val_loss: 0.2424 - val_acc: 0.9553\n",
      "Epoch 4/20\n",
      "2480/2480 [==============================] - 0s 187us/step - loss: 0.2010 - acc: 0.9685 - val_loss: 0.1743 - val_acc: 0.9686\n",
      "Epoch 5/20\n",
      "2480/2480 [==============================] - 0s 186us/step - loss: 0.1423 - acc: 0.9798 - val_loss: 0.1341 - val_acc: 0.9770\n",
      "Epoch 6/20\n",
      "2480/2480 [==============================] - 0s 187us/step - loss: 0.1055 - acc: 0.9843 - val_loss: 0.1089 - val_acc: 0.9794\n",
      "Epoch 7/20\n",
      "2480/2480 [==============================] - 0s 185us/step - loss: 0.0816 - acc: 0.9871 - val_loss: 0.0921 - val_acc: 0.9807\n",
      "Epoch 8/20\n",
      "2480/2480 [==============================] - 1s 210us/step - loss: 0.0651 - acc: 0.9879 - val_loss: 0.0825 - val_acc: 0.9807\n",
      "Epoch 9/20\n",
      "2480/2480 [==============================] - 1s 203us/step - loss: 0.0540 - acc: 0.9891 - val_loss: 0.0740 - val_acc: 0.9794\n",
      "Epoch 10/20\n",
      "2480/2480 [==============================] - 0s 163us/step - loss: 0.0450 - acc: 0.9915 - val_loss: 0.0685 - val_acc: 0.9794\n",
      "Epoch 11/20\n",
      "2480/2480 [==============================] - 0s 145us/step - loss: 0.0387 - acc: 0.9915 - val_loss: 0.0644 - val_acc: 0.9819\n",
      "Epoch 12/20\n",
      "2480/2480 [==============================] - 0s 155us/step - loss: 0.0334 - acc: 0.9919 - val_loss: 0.0665 - val_acc: 0.9807\n",
      "Epoch 13/20\n",
      "2480/2480 [==============================] - 0s 147us/step - loss: 0.0296 - acc: 0.9923 - val_loss: 0.0621 - val_acc: 0.9831\n",
      "Epoch 14/20\n",
      "2480/2480 [==============================] - 0s 148us/step - loss: 0.0262 - acc: 0.9927 - val_loss: 0.0644 - val_acc: 0.9794\n",
      "Epoch 15/20\n",
      "2480/2480 [==============================] - 0s 144us/step - loss: 0.0237 - acc: 0.9931 - val_loss: 0.0585 - val_acc: 0.9819\n",
      "Epoch 16/20\n",
      "2480/2480 [==============================] - 0s 147us/step - loss: 0.0210 - acc: 0.9944 - val_loss: 0.0622 - val_acc: 0.9819\n",
      "Epoch 17/20\n",
      "2480/2480 [==============================] - 0s 148us/step - loss: 0.0190 - acc: 0.9952 - val_loss: 0.0602 - val_acc: 0.9831\n",
      "Epoch 18/20\n",
      "2480/2480 [==============================] - 0s 147us/step - loss: 0.0173 - acc: 0.9960 - val_loss: 0.0644 - val_acc: 0.9794\n",
      "Epoch 19/20\n",
      "2480/2480 [==============================] - 0s 147us/step - loss: 0.0155 - acc: 0.9960 - val_loss: 0.0598 - val_acc: 0.9831\n",
      "Epoch 20/20\n",
      "2480/2480 [==============================] - 0s 150us/step - loss: 0.0143 - acc: 0.9972 - val_loss: 0.0613 - val_acc: 0.9819\n"
     ]
    }
   ],
   "source": [
    "from keras import optimizers\n",
    "        \n",
    "model.compile(optimizer=optimizers.RMSprop(lr=0.001),\n",
    "                      loss='binary_crossentropy',\n",
    "                      metrics=['accuracy'])\n",
    "\n",
    "history = model.fit(X_train_t, y_train_t,\n",
    "                    epochs=20,\n",
    "                    batch_size=512,\n",
    "                    validation_data=(X_test_t, y_test_t))\n",
    "\n",
    "history_dict = history.history"
   ]
  },
  {
   "cell_type": "code",
   "execution_count": 67,
   "metadata": {},
   "outputs": [
    {
     "data": {
      "image/png": "[encoded data removed]",
      "text/plain": [
       "<Figure size 432x288 with 1 Axes>"
      ]
     },
     "metadata": {},
     "output_type": "display_data"
    }
   ],
   "source": [
    "\n",
    "history_dict = history.history\n",
    "loss_values = history_dict['loss']\n",
    "val_loss_values = history_dict['val_loss']\n",
    "epochs = range(1, len(history_dict['acc']) + 1)\n",
    "plt.plot(epochs, loss_values, 'bo', label='Training loss')\n",
    "plt.plot(epochs, val_loss_values, 'b', label='Validation loss')\n",
    "\n",
    "plt.title('Training and validation loss')\n",
    "plt.xlabel('Epochs')\n",
    "plt.ylabel('Loss')\n",
    "plt.legend()\n",
    "\n",
    "plt.show()"
   ]
  },
  {
   "cell_type": "code",
   "execution_count": 68,
   "metadata": {},
   "outputs": [
    {
     "data": {
      "image/png": "[encoded data removed]",
      "text/plain": [
       "<Figure size 432x288 with 1 Axes>"
      ]
     },
     "metadata": {},
     "output_type": "display_data"
    }
   ],
   "source": [
    "acc_values = history_dict['acc'] \n",
    "val_acc_values = history_dict['val_acc']\n",
    "plt.plot(epochs, acc_values, 'bo', label='Training acc')\n",
    "plt.plot(epochs, val_acc_values, 'b', label='Validation acc')\n",
    "plt.title('Training and validation accuracy')\n",
    "plt.xlabel('Epochs')\n",
    "plt.ylabel('Loss')\n",
    "plt.legend()\n",
    "plt.show()"
   ]
  }
 ],
 "metadata": {
  "kernelspec": {
   "display_name": "Python 3",
   "language": "python",
   "name": "python3"
  },
  "language_info": {
   "codemirror_mode": {
    "name": "ipython",
    "version": 3
   },
   "file_extension": ".py",
   "mimetype": "text/x-python",
   "name": "python",
   "nbconvert_exporter": "python",
   "pygments_lexer": "ipython3",
   "version": "3.6.8"
  },
  "toc": {
   "base_numbering": 1,
   "nav_menu": {},
   "number_sections": true,
   "sideBar": true,
   "skip_h1_title": false,
   "title_cell": "Table of Contents",
   "title_sidebar": "Contents",
   "toc_cell": true,
   "toc_position": {},
   "toc_section_display": true,
   "toc_window_display": true
  }
 },
 "nbformat": 4,
 "nbformat_minor": 2
}
